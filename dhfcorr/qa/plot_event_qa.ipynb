{
 "cells": [
  {
   "cell_type": "code",
   "execution_count": 1,
   "metadata": {
    "pycharm": {
     "is_executing": false
    }
   },
   "outputs": [
    {
     "name": "stdout",
     "output_type": "stream",
     "text": [
      "Welcome to JupyROOT 6.16/00\n"
     ]
    }
   ],
   "source": [
    "import ROOT"
   ]
  },
  {
   "cell_type": "code",
   "execution_count": 2,
   "metadata": {
    "pycharm": {
     "name": "#%%\n"
    }
   },
   "outputs": [],
   "source": [
    "import seaborn as sns\n",
    "import matplotlib.pyplot as plt\n",
    "import pandas as pd\n",
    "import numpy as np\n",
    "sns.set()"
   ]
  },
  {
   "cell_type": "code",
   "execution_count": 3,
   "metadata": {},
   "outputs": [],
   "source": [
    "path_to_root_file = '/Users/hzanoli/cernbox/postdoc/DHFeCorrLocal/data_root/'\n",
    "configuration_name = 'D0'\n",
    "folder_name = 'DHFeCorrelation_' + configuration_name"
   ]
  },
  {
   "cell_type": "code",
   "execution_count": 4,
   "metadata": {},
   "outputs": [],
   "source": [
    "files = ['16d.root', '16e.root', '16g.root', '16h.root', '16j.root', '16k.root', '16l.root', '16o.root',\n",
    "         '16p.root', '17c.root', '17e.root', '17f.root', '17h.root', '17i.root', '17j.root', '17k.root',\n",
    "         '17l.root', '17m.root', '17o.root', '17r.root', '18b.root', '18d.root', '18e.root', '18f.root',\n",
    "         '18g.root', '18h.root', '18i.root', '18k.root', '18l.root', '18m.root', '18n.root', '18o.root',\n",
    "         '18p.root']"
   ]
  },
  {
   "cell_type": "code",
   "execution_count": 5,
   "metadata": {},
   "outputs": [],
   "source": [
    "n_events_with_trigger = list()\n",
    "n_events_with_DHFe = list()\n",
    "\n",
    "for f in files:\n",
    "    file_root = ROOT.TFile.Open(path_to_root_file+f)\n",
    "    file_root.cd('DHFeCorrelation_D0')\n",
    "    list_event_qa = ROOT.gDirectory.Get('EventsQA')\n",
    "    \n",
    "    events_with_trigger = list_event_qa.FindObject('VertexZ_before')\n",
    "    events_with_trigger.GetXaxis().SetRangeUser(-10.,10.)\n",
    "    n_events = events_with_trigger.Integral()\n",
    "    n_events_with_trigger.append(n_events)\n",
    "    \n",
    "    events_with_DHFe = list_event_qa.FindObject('VertexZ_after')\n",
    "    events_with_DHFe.GetXaxis().SetRangeUser(-10.,10.)\n",
    "    n_events_DHFe = events_with_DHFe.Integral()\n",
    "    n_events_with_DHFe.append(n_events_DHFe)"
   ]
  },
  {
   "cell_type": "code",
   "execution_count": 6,
   "metadata": {},
   "outputs": [],
   "source": [
    "periods = [x[:-5] for x in files] \n",
    "event_counts = pd.DataFrame([periods, n_events_with_trigger, n_events_with_DHFe]).T\n",
    "event_counts.columns = ['Period', 'Number of Events', 'Events with D and e']"
   ]
  },
  {
   "cell_type": "code",
   "execution_count": 7,
   "metadata": {},
   "outputs": [
    {
     "data": {
      "text/html": [
       "<div>\n",
       "<style scoped>\n",
       "    .dataframe tbody tr th:only-of-type {\n",
       "        vertical-align: middle;\n",
       "    }\n",
       "\n",
       "    .dataframe tbody tr th {\n",
       "        vertical-align: top;\n",
       "    }\n",
       "\n",
       "    .dataframe thead th {\n",
       "        text-align: right;\n",
       "    }\n",
       "</style>\n",
       "<table border=\"1\" class=\"dataframe\">\n",
       "  <thead>\n",
       "    <tr style=\"text-align: right;\">\n",
       "      <th></th>\n",
       "      <th>Period</th>\n",
       "      <th>Number of Events</th>\n",
       "      <th>Events with D and e</th>\n",
       "      <th>year</th>\n",
       "      <th>period</th>\n",
       "    </tr>\n",
       "  </thead>\n",
       "  <tbody>\n",
       "    <tr>\n",
       "      <th>0</th>\n",
       "      <td>16d</td>\n",
       "      <td>1.53896e+07</td>\n",
       "      <td>189076</td>\n",
       "      <td>16</td>\n",
       "      <td>d</td>\n",
       "    </tr>\n",
       "    <tr>\n",
       "      <th>1</th>\n",
       "      <td>16e</td>\n",
       "      <td>5.06021e+07</td>\n",
       "      <td>665821</td>\n",
       "      <td>16</td>\n",
       "      <td>e</td>\n",
       "    </tr>\n",
       "    <tr>\n",
       "      <th>2</th>\n",
       "      <td>16g</td>\n",
       "      <td>2.7366e+07</td>\n",
       "      <td>342646</td>\n",
       "      <td>16</td>\n",
       "      <td>g</td>\n",
       "    </tr>\n",
       "    <tr>\n",
       "      <th>3</th>\n",
       "      <td>16h</td>\n",
       "      <td>7.1316e+07</td>\n",
       "      <td>915226</td>\n",
       "      <td>16</td>\n",
       "      <td>h</td>\n",
       "    </tr>\n",
       "    <tr>\n",
       "      <th>4</th>\n",
       "      <td>16j</td>\n",
       "      <td>4.59067e+07</td>\n",
       "      <td>598876</td>\n",
       "      <td>16</td>\n",
       "      <td>j</td>\n",
       "    </tr>\n",
       "    <tr>\n",
       "      <th>5</th>\n",
       "      <td>16k</td>\n",
       "      <td>1.19888e+08</td>\n",
       "      <td>1.5701e+06</td>\n",
       "      <td>16</td>\n",
       "      <td>k</td>\n",
       "    </tr>\n",
       "    <tr>\n",
       "      <th>6</th>\n",
       "      <td>16l</td>\n",
       "      <td>2.93315e+07</td>\n",
       "      <td>383091</td>\n",
       "      <td>16</td>\n",
       "      <td>l</td>\n",
       "    </tr>\n",
       "    <tr>\n",
       "      <th>7</th>\n",
       "      <td>16o</td>\n",
       "      <td>3.307e+07</td>\n",
       "      <td>430731</td>\n",
       "      <td>16</td>\n",
       "      <td>o</td>\n",
       "    </tr>\n",
       "    <tr>\n",
       "      <th>8</th>\n",
       "      <td>16p</td>\n",
       "      <td>2.04292e+07</td>\n",
       "      <td>265163</td>\n",
       "      <td>16</td>\n",
       "      <td>p</td>\n",
       "    </tr>\n",
       "    <tr>\n",
       "      <th>9</th>\n",
       "      <td>17c</td>\n",
       "      <td>9.26623e+06</td>\n",
       "      <td>129390</td>\n",
       "      <td>17</td>\n",
       "      <td>c</td>\n",
       "    </tr>\n",
       "    <tr>\n",
       "      <th>10</th>\n",
       "      <td>17e</td>\n",
       "      <td>9.92914e+06</td>\n",
       "      <td>136447</td>\n",
       "      <td>17</td>\n",
       "      <td>e</td>\n",
       "    </tr>\n",
       "    <tr>\n",
       "      <th>11</th>\n",
       "      <td>17f</td>\n",
       "      <td>9.42791e+06</td>\n",
       "      <td>131705</td>\n",
       "      <td>17</td>\n",
       "      <td>f</td>\n",
       "    </tr>\n",
       "    <tr>\n",
       "      <th>12</th>\n",
       "      <td>17h</td>\n",
       "      <td>1.22185e+08</td>\n",
       "      <td>1.67893e+06</td>\n",
       "      <td>17</td>\n",
       "      <td>h</td>\n",
       "    </tr>\n",
       "    <tr>\n",
       "      <th>13</th>\n",
       "      <td>17i</td>\n",
       "      <td>4.47081e+07</td>\n",
       "      <td>622612</td>\n",
       "      <td>17</td>\n",
       "      <td>i</td>\n",
       "    </tr>\n",
       "    <tr>\n",
       "      <th>14</th>\n",
       "      <td>17j</td>\n",
       "      <td>3.97962e+07</td>\n",
       "      <td>551693</td>\n",
       "      <td>17</td>\n",
       "      <td>j</td>\n",
       "    </tr>\n",
       "    <tr>\n",
       "      <th>15</th>\n",
       "      <td>17k</td>\n",
       "      <td>9.30237e+07</td>\n",
       "      <td>1.30323e+06</td>\n",
       "      <td>17</td>\n",
       "      <td>k</td>\n",
       "    </tr>\n",
       "    <tr>\n",
       "      <th>16</th>\n",
       "      <td>17l</td>\n",
       "      <td>7.11124e+07</td>\n",
       "      <td>1.0041e+06</td>\n",
       "      <td>17</td>\n",
       "      <td>l</td>\n",
       "    </tr>\n",
       "    <tr>\n",
       "      <th>17</th>\n",
       "      <td>17m</td>\n",
       "      <td>9.93832e+07</td>\n",
       "      <td>1.39926e+06</td>\n",
       "      <td>17</td>\n",
       "      <td>m</td>\n",
       "    </tr>\n",
       "    <tr>\n",
       "      <th>18</th>\n",
       "      <td>17o</td>\n",
       "      <td>1.01231e+08</td>\n",
       "      <td>1.41833e+06</td>\n",
       "      <td>17</td>\n",
       "      <td>o</td>\n",
       "    </tr>\n",
       "    <tr>\n",
       "      <th>19</th>\n",
       "      <td>17r</td>\n",
       "      <td>2.53107e+07</td>\n",
       "      <td>356944</td>\n",
       "      <td>17</td>\n",
       "      <td>r</td>\n",
       "    </tr>\n",
       "    <tr>\n",
       "      <th>20</th>\n",
       "      <td>18b</td>\n",
       "      <td>1.43924e+08</td>\n",
       "      <td>1.05955e+06</td>\n",
       "      <td>18</td>\n",
       "      <td>b</td>\n",
       "    </tr>\n",
       "    <tr>\n",
       "      <th>21</th>\n",
       "      <td>18d</td>\n",
       "      <td>3.90073e+07</td>\n",
       "      <td>500979</td>\n",
       "      <td>18</td>\n",
       "      <td>d</td>\n",
       "    </tr>\n",
       "    <tr>\n",
       "      <th>22</th>\n",
       "      <td>18e</td>\n",
       "      <td>4.91002e+07</td>\n",
       "      <td>630723</td>\n",
       "      <td>18</td>\n",
       "      <td>e</td>\n",
       "    </tr>\n",
       "    <tr>\n",
       "      <th>23</th>\n",
       "      <td>18f</td>\n",
       "      <td>5.19761e+07</td>\n",
       "      <td>751384</td>\n",
       "      <td>18</td>\n",
       "      <td>f</td>\n",
       "    </tr>\n",
       "    <tr>\n",
       "      <th>24</th>\n",
       "      <td>18g</td>\n",
       "      <td>7.81139e+06</td>\n",
       "      <td>111375</td>\n",
       "      <td>18</td>\n",
       "      <td>g</td>\n",
       "    </tr>\n",
       "    <tr>\n",
       "      <th>25</th>\n",
       "      <td>18h</td>\n",
       "      <td>3.54174e+06</td>\n",
       "      <td>50689</td>\n",
       "      <td>18</td>\n",
       "      <td>h</td>\n",
       "    </tr>\n",
       "    <tr>\n",
       "      <th>26</th>\n",
       "      <td>18i</td>\n",
       "      <td>5.23609e+07</td>\n",
       "      <td>660715</td>\n",
       "      <td>18</td>\n",
       "      <td>i</td>\n",
       "    </tr>\n",
       "    <tr>\n",
       "      <th>27</th>\n",
       "      <td>18k</td>\n",
       "      <td>9.34539e+06</td>\n",
       "      <td>133931</td>\n",
       "      <td>18</td>\n",
       "      <td>k</td>\n",
       "    </tr>\n",
       "    <tr>\n",
       "      <th>28</th>\n",
       "      <td>18l</td>\n",
       "      <td>6.24507e+07</td>\n",
       "      <td>891671</td>\n",
       "      <td>18</td>\n",
       "      <td>l</td>\n",
       "    </tr>\n",
       "    <tr>\n",
       "      <th>29</th>\n",
       "      <td>18m</td>\n",
       "      <td>1.82765e+08</td>\n",
       "      <td>2.34793e+06</td>\n",
       "      <td>18</td>\n",
       "      <td>m</td>\n",
       "    </tr>\n",
       "    <tr>\n",
       "      <th>30</th>\n",
       "      <td>18n</td>\n",
       "      <td>3.34878e+06</td>\n",
       "      <td>47142</td>\n",
       "      <td>18</td>\n",
       "      <td>n</td>\n",
       "    </tr>\n",
       "    <tr>\n",
       "      <th>31</th>\n",
       "      <td>18o</td>\n",
       "      <td>2.75364e+07</td>\n",
       "      <td>393069</td>\n",
       "      <td>18</td>\n",
       "      <td>o</td>\n",
       "    </tr>\n",
       "    <tr>\n",
       "      <th>32</th>\n",
       "      <td>18p</td>\n",
       "      <td>6.41069e+07</td>\n",
       "      <td>920276</td>\n",
       "      <td>18</td>\n",
       "      <td>p</td>\n",
       "    </tr>\n",
       "  </tbody>\n",
       "</table>\n",
       "</div>"
      ],
      "text/plain": [
       "   Period Number of Events Events with D and e year period\n",
       "0     16d      1.53896e+07              189076   16      d\n",
       "1     16e      5.06021e+07              665821   16      e\n",
       "2     16g       2.7366e+07              342646   16      g\n",
       "3     16h       7.1316e+07              915226   16      h\n",
       "4     16j      4.59067e+07              598876   16      j\n",
       "5     16k      1.19888e+08          1.5701e+06   16      k\n",
       "6     16l      2.93315e+07              383091   16      l\n",
       "7     16o        3.307e+07              430731   16      o\n",
       "8     16p      2.04292e+07              265163   16      p\n",
       "9     17c      9.26623e+06              129390   17      c\n",
       "10    17e      9.92914e+06              136447   17      e\n",
       "11    17f      9.42791e+06              131705   17      f\n",
       "12    17h      1.22185e+08         1.67893e+06   17      h\n",
       "13    17i      4.47081e+07              622612   17      i\n",
       "14    17j      3.97962e+07              551693   17      j\n",
       "15    17k      9.30237e+07         1.30323e+06   17      k\n",
       "16    17l      7.11124e+07          1.0041e+06   17      l\n",
       "17    17m      9.93832e+07         1.39926e+06   17      m\n",
       "18    17o      1.01231e+08         1.41833e+06   17      o\n",
       "19    17r      2.53107e+07              356944   17      r\n",
       "20    18b      1.43924e+08         1.05955e+06   18      b\n",
       "21    18d      3.90073e+07              500979   18      d\n",
       "22    18e      4.91002e+07              630723   18      e\n",
       "23    18f      5.19761e+07              751384   18      f\n",
       "24    18g      7.81139e+06              111375   18      g\n",
       "25    18h      3.54174e+06               50689   18      h\n",
       "26    18i      5.23609e+07              660715   18      i\n",
       "27    18k      9.34539e+06              133931   18      k\n",
       "28    18l      6.24507e+07              891671   18      l\n",
       "29    18m      1.82765e+08         2.34793e+06   18      m\n",
       "30    18n      3.34878e+06               47142   18      n\n",
       "31    18o      2.75364e+07              393069   18      o\n",
       "32    18p      6.41069e+07              920276   18      p"
      ]
     },
     "execution_count": 7,
     "metadata": {},
     "output_type": "execute_result"
    }
   ],
   "source": [
    "event_counts['year'] = event_counts['Period'].apply(lambda x: x[:2])\n",
    "event_counts['period'] = event_counts['Period'].apply(lambda x: x[2:3])\n",
    "event_counts"
   ]
  },
  {
   "cell_type": "code",
   "execution_count": 24,
   "metadata": {},
   "outputs": [
    {
     "data": {
      "image/png": "[encoded data removed]",
      "text/plain": [
       "<Figure size 432x288 with 1 Axes>"
      ]
     },
     "metadata": {
      "needs_background": "light"
     },
     "output_type": "display_data"
    }
   ],
   "source": [
    "sns.set_context('notebook')\n",
    "ax = event_counts.plot.bar(x='Period', y='Number of Events',\n",
    "                           color='red', label='Number of Events with INT7 Trigger')\n",
    "ax.set_ylabel('Frequency')\n",
    "\n",
    "ax.get_figure().savefig('All_event_with_trigger.pdf', bbox_inches='tight')"
   ]
  },
  {
   "cell_type": "code",
   "execution_count": 25,
   "metadata": {},
   "outputs": [
    {
     "data": {
      "image/png": "[encoded data removed]",
      "text/plain": [
       "<Figure size 432x288 with 1 Axes>"
      ]
     },
     "metadata": {
      "needs_background": "light"
     },
     "output_type": "display_data"
    }
   ],
   "source": [
    "ax = event_counts.plot.bar(x='Period', y='Events with D and e', \n",
    "                           color='red', label='Number of Events with D and e')\n",
    "ax.ticklabel_format(axis='y', style='sci', scilimits=(-2,2))\n",
    "ax.set_ylabel('Frequency')\n",
    "ax.get_figure().savefig('All_event_with_De.pdf', bbox_inches='tight')"
   ]
  },
  {
   "cell_type": "code",
   "execution_count": 10,
   "metadata": {},
   "outputs": [],
   "source": [
    "event_counts['Events with D and e'] = event_counts['Events with D and e'].astype(np.float32)\n",
    "event_counts['Number of Events'] = event_counts['Number of Events'].astype(np.float32)\n",
    "event_counts['ratio'] = event_counts['Events with D and e']/event_counts['Number of Events']\n",
    "\n",
    "event_counts['ratio_error'] = event_counts['ratio']* np.sqrt( \n",
    "    (np.sqrt(event_counts['Events with D and e'])/event_counts['Events with D and e'])** 2  +\n",
    "    (np.sqrt(event_counts['Number of Events'])/event_counts['Number of Events'])** 2)"
   ]
  },
  {
   "cell_type": "code",
   "execution_count": 27,
   "metadata": {},
   "outputs": [
    {
     "data": {
      "image/png": "[encoded data removed]",
      "text/plain": [
       "<Figure size 432x288 with 1 Axes>"
      ]
     },
     "metadata": {
      "needs_background": "light"
     },
     "output_type": "display_data"
    }
   ],
   "source": [
    "sns.set_context('notebook')\n",
    "ax = event_counts.plot.bar(x='Period', y='ratio', color='red', label = 'Selected/Total')\n",
    "ax.set_ylim(1.1*np.array(ax.get_ylim()))\n",
    "ax.set_ylabel('Ratio')\n",
    "ax.get_figure().savefig('ratio.pdf', bbox_inches='tight')"
   ]
  },
  {
   "cell_type": "code",
   "execution_count": 28,
   "metadata": {},
   "outputs": [
    {
     "data": {
      "text/plain": [
       "22592798.0"
      ]
     },
     "execution_count": 28,
     "metadata": {},
     "output_type": "execute_result"
    }
   ],
   "source": [
    "event_counts['Events with D and e'].sum()"
   ]
  },
  {
   "cell_type": "code",
   "execution_count": 29,
   "metadata": {},
   "outputs": [
    {
     "data": {
      "text/plain": [
       "1735948300.0"
      ]
     },
     "execution_count": 29,
     "metadata": {},
     "output_type": "execute_result"
    }
   ],
   "source": [
    "event_counts['Number of Events'].sum()"
   ]
  },
  {
   "cell_type": "code",
   "execution_count": null,
   "metadata": {},
   "outputs": [],
   "source": []
  }
 ],
 "metadata": {
  "kernelspec": {
   "display_name": "Python 3",
   "language": "python",
   "name": "python3"
  },
  "language_info": {
   "codemirror_mode": {
    "name": "ipython",
    "version": 3
   },
   "file_extension": ".py",
   "mimetype": "text/x-python",
   "name": "python",
   "nbconvert_exporter": "python",
   "pygments_lexer": "ipython3",
   "version": "3.7.4"
  },
  "pycharm": {
   "stem_cell": {
    "cell_type": "raw",
    "metadata": {
     "collapsed": false
    },
    "source": []
   }
  }
 },
 "nbformat": 4,
 "nbformat_minor": 1
}
