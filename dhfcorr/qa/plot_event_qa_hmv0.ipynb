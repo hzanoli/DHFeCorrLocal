{
 "cells": [
  {
   "cell_type": "code",
   "execution_count": 1,
   "metadata": {
    "pycharm": {
     "is_executing": false
    }
   },
   "outputs": [
    {
     "name": "stdout",
     "output_type": "stream",
     "text": [
      "Welcome to JupyROOT 6.16/00\n"
     ]
    }
   ],
   "source": [
    "import ROOT"
   ]
  },
  {
   "cell_type": "code",
   "execution_count": 2,
   "metadata": {
    "pycharm": {
     "name": "#%%\n"
    }
   },
   "outputs": [],
   "source": [
    "import seaborn as sns\n",
    "import matplotlib.pyplot as plt\n",
    "import pandas as pd\n",
    "import numpy as np\n",
    "sns.set()\n",
    "%matplotlib inline\n",
    "%config InlineBackend.figure_format = 'retina'"
   ]
  },
  {
   "cell_type": "code",
   "execution_count": 3,
   "metadata": {},
   "outputs": [],
   "source": [
    "path_to_root_file = '/Users/hzanoli/cernbox/postdoc/DHFeCorrLocal/data_root_HMV0/'\n",
    "configuration_name = 'D0'\n",
    "folder_name = 'DHFeCorrelation_' + configuration_name"
   ]
  },
  {
   "cell_type": "code",
   "execution_count": 4,
   "metadata": {},
   "outputs": [],
   "source": [
    "import glob"
   ]
  },
  {
   "cell_type": "code",
   "execution_count": 5,
   "metadata": {},
   "outputs": [
    {
     "data": {
      "text/plain": [
       "['/Users/hzanoli/cernbox/postdoc/DHFeCorrLocal/data_root_HMV0/16_child_6_014.root',\n",
       " '/Users/hzanoli/cernbox/postdoc/DHFeCorrLocal/data_root_HMV0/17_child_6_.root',\n",
       " '/Users/hzanoli/cernbox/postdoc/DHFeCorrLocal/data_root_HMV0/16_child_6_002.root',\n",
       " '/Users/hzanoli/cernbox/postdoc/DHFeCorrLocal/data_root_HMV0/17_child_11_002.root',\n",
       " '/Users/hzanoli/cernbox/postdoc/DHFeCorrLocal/data_root_HMV0/17_child_10_002.root',\n",
       " '/Users/hzanoli/cernbox/postdoc/DHFeCorrLocal/data_root_HMV0/16_child_8_.root',\n",
       " '/Users/hzanoli/cernbox/postdoc/DHFeCorrLocal/data_root_HMV0/17_child_10_014.root',\n",
       " '/Users/hzanoli/cernbox/postdoc/DHFeCorrLocal/data_root_HMV0/17_child_11_014.root',\n",
       " '/Users/hzanoli/cernbox/postdoc/DHFeCorrLocal/data_root_HMV0/16_child_6_018.root',\n",
       " '/Users/hzanoli/cernbox/postdoc/DHFeCorrLocal/data_root_HMV0/18_child_10_006.root',\n",
       " '/Users/hzanoli/cernbox/postdoc/DHFeCorrLocal/data_root_HMV0/17_child_9_006.root',\n",
       " '/Users/hzanoli/cernbox/postdoc/DHFeCorrLocal/data_root_HMV0/17_child_8_006.root',\n",
       " '/Users/hzanoli/cernbox/postdoc/DHFeCorrLocal/data_root_HMV0/17_child_8_010.root',\n",
       " '/Users/hzanoli/cernbox/postdoc/DHFeCorrLocal/data_root_HMV0/17_child_9_010.root',\n",
       " '/Users/hzanoli/cernbox/postdoc/DHFeCorrLocal/data_root_HMV0/17_child_11_022.root',\n",
       " '/Users/hzanoli/cernbox/postdoc/DHFeCorrLocal/data_root_HMV0/18_child_10_010.root',\n",
       " '/Users/hzanoli/cernbox/postdoc/DHFeCorrLocal/data_root_HMV0/17_child_11_018.root',\n",
       " '/Users/hzanoli/cernbox/postdoc/DHFeCorrLocal/data_root_HMV0/17_child_10_018.root',\n",
       " '/Users/hzanoli/cernbox/postdoc/DHFeCorrLocal/data_root_HMV0/17_child_11_019.root',\n",
       " '/Users/hzanoli/cernbox/postdoc/DHFeCorrLocal/data_root_HMV0/18_child_10_011.root',\n",
       " '/Users/hzanoli/cernbox/postdoc/DHFeCorrLocal/data_root_HMV0/17_child_8_011.root',\n",
       " '/Users/hzanoli/cernbox/postdoc/DHFeCorrLocal/data_root_HMV0/17_child_9_011.root',\n",
       " '/Users/hzanoli/cernbox/postdoc/DHFeCorrLocal/data_root_HMV0/17_child_11_023.root',\n",
       " '/Users/hzanoli/cernbox/postdoc/DHFeCorrLocal/data_root_HMV0/17_child_9_007.root',\n",
       " '/Users/hzanoli/cernbox/postdoc/DHFeCorrLocal/data_root_HMV0/17_child_8_007.root',\n",
       " '/Users/hzanoli/cernbox/postdoc/DHFeCorrLocal/data_root_HMV0/18_child_9_.root',\n",
       " '/Users/hzanoli/cernbox/postdoc/DHFeCorrLocal/data_root_HMV0/16_child_6_019.root',\n",
       " '/Users/hzanoli/cernbox/postdoc/DHFeCorrLocal/data_root_HMV0/18_child_10_007.root',\n",
       " '/Users/hzanoli/cernbox/postdoc/DHFeCorrLocal/data_root_HMV0/17_child_10_015.root',\n",
       " '/Users/hzanoli/cernbox/postdoc/DHFeCorrLocal/data_root_HMV0/17_child_11_015.root',\n",
       " '/Users/hzanoli/cernbox/postdoc/DHFeCorrLocal/data_root_HMV0/17_child_11_003.root',\n",
       " '/Users/hzanoli/cernbox/postdoc/DHFeCorrLocal/data_root_HMV0/17_child_10_003.root',\n",
       " '/Users/hzanoli/cernbox/postdoc/DHFeCorrLocal/data_root_HMV0/16_child_6_003.root',\n",
       " '/Users/hzanoli/cernbox/postdoc/DHFeCorrLocal/data_root_HMV0/16_child_6_015.root',\n",
       " '/Users/hzanoli/cernbox/postdoc/DHFeCorrLocal/data_root_HMV0/17_child_2_.root',\n",
       " '/Users/hzanoli/cernbox/postdoc/DHFeCorrLocal/data_root_HMV0/17_child_9_016.root',\n",
       " '/Users/hzanoli/cernbox/postdoc/DHFeCorrLocal/data_root_HMV0/17_child_8_016.root',\n",
       " '/Users/hzanoli/cernbox/postdoc/DHFeCorrLocal/data_root_HMV0/17_child_11_024.root',\n",
       " '/Users/hzanoli/cernbox/postdoc/DHFeCorrLocal/data_root_HMV0/16_child_6_008.root',\n",
       " '/Users/hzanoli/cernbox/postdoc/DHFeCorrLocal/data_root_HMV0/18_child_10_016.root',\n",
       " '/Users/hzanoli/cernbox/postdoc/DHFeCorrLocal/data_root_HMV0/17_child_11_008.root',\n",
       " '/Users/hzanoli/cernbox/postdoc/DHFeCorrLocal/data_root_HMV0/17_child_10_008.root',\n",
       " '/Users/hzanoli/cernbox/postdoc/DHFeCorrLocal/data_root_HMV0/17_child_5_.root',\n",
       " '/Users/hzanoli/cernbox/postdoc/DHFeCorrLocal/data_root_HMV0/16_child_6_012.root',\n",
       " '/Users/hzanoli/cernbox/postdoc/DHFeCorrLocal/data_root_HMV0/17_child_7_.root',\n",
       " '/Users/hzanoli/cernbox/postdoc/DHFeCorrLocal/data_root_HMV0/16_child_6_004.root',\n",
       " '/Users/hzanoli/cernbox/postdoc/DHFeCorrLocal/data_root_HMV0/17_child_10_004.root',\n",
       " '/Users/hzanoli/cernbox/postdoc/DHFeCorrLocal/data_root_HMV0/17_child_11_004.root',\n",
       " '/Users/hzanoli/cernbox/postdoc/DHFeCorrLocal/data_root_HMV0/16_child_9_.root',\n",
       " '/Users/hzanoli/cernbox/postdoc/DHFeCorrLocal/data_root_HMV0/17_child_11_012.root',\n",
       " '/Users/hzanoli/cernbox/postdoc/DHFeCorrLocal/data_root_HMV0/17_child_10_012.root',\n",
       " '/Users/hzanoli/cernbox/postdoc/DHFeCorrLocal/data_root_HMV0/17_child_9_020.root',\n",
       " '/Users/hzanoli/cernbox/postdoc/DHFeCorrLocal/data_root_HMV0/17_child_11_013.root',\n",
       " '/Users/hzanoli/cernbox/postdoc/DHFeCorrLocal/data_root_HMV0/17_child_10_013.root',\n",
       " '/Users/hzanoli/cernbox/postdoc/DHFeCorrLocal/data_root_HMV0/17_child_10_005.root',\n",
       " '/Users/hzanoli/cernbox/postdoc/DHFeCorrLocal/data_root_HMV0/17_child_11_005.root',\n",
       " '/Users/hzanoli/cernbox/postdoc/DHFeCorrLocal/data_root_HMV0/18_child_1.root',\n",
       " '/Users/hzanoli/cernbox/postdoc/DHFeCorrLocal/data_root_HMV0/16_child_6_005.root',\n",
       " '/Users/hzanoli/cernbox/postdoc/DHFeCorrLocal/data_root_HMV0/17_child_3_.root',\n",
       " '/Users/hzanoli/cernbox/postdoc/DHFeCorrLocal/data_root_HMV0/16_child_6_013.root',\n",
       " '/Users/hzanoli/cernbox/postdoc/DHFeCorrLocal/data_root_HMV0/17_child_1_.root',\n",
       " '/Users/hzanoli/cernbox/postdoc/DHFeCorrLocal/data_root_HMV0/17_child_11_009.root',\n",
       " '/Users/hzanoli/cernbox/postdoc/DHFeCorrLocal/data_root_HMV0/17_child_10_009.root',\n",
       " '/Users/hzanoli/cernbox/postdoc/DHFeCorrLocal/data_root_HMV0/16_child_6_009.root',\n",
       " '/Users/hzanoli/cernbox/postdoc/DHFeCorrLocal/data_root_HMV0/18_child_10_017.root',\n",
       " '/Users/hzanoli/cernbox/postdoc/DHFeCorrLocal/data_root_HMV0/17_child_9_017.root',\n",
       " '/Users/hzanoli/cernbox/postdoc/DHFeCorrLocal/data_root_HMV0/17_child_8_017.root',\n",
       " '/Users/hzanoli/cernbox/postdoc/DHFeCorrLocal/data_root_HMV0/18_child_8_.root',\n",
       " '/Users/hzanoli/cernbox/postdoc/DHFeCorrLocal/data_root_HMV0/17_child_8_001.root',\n",
       " '/Users/hzanoli/cernbox/postdoc/DHFeCorrLocal/data_root_HMV0/17_child_9_001.root',\n",
       " '/Users/hzanoli/cernbox/postdoc/DHFeCorrLocal/data_root_HMV0/18_child_10_001.root',\n",
       " '/Users/hzanoli/cernbox/postdoc/DHFeCorrLocal/data_root_HMV0/18_child_4_.root',\n",
       " '/Users/hzanoli/cernbox/postdoc/DHFeCorrLocal/data_root_HMV0/16_child_3_.root',\n",
       " '/Users/hzanoli/cernbox/postdoc/DHFeCorrLocal/data_root_HMV0/18_child_10_014.root',\n",
       " '/Users/hzanoli/cernbox/postdoc/DHFeCorrLocal/data_root_HMV0/17_child_8_014.root',\n",
       " '/Users/hzanoli/cernbox/postdoc/DHFeCorrLocal/data_root_HMV0/17_child_9_014.root',\n",
       " '/Users/hzanoli/cernbox/postdoc/DHFeCorrLocal/data_root_HMV0/17_child_9_002.root',\n",
       " '/Users/hzanoli/cernbox/postdoc/DHFeCorrLocal/data_root_HMV0/17_child_8_002.root',\n",
       " '/Users/hzanoli/cernbox/postdoc/DHFeCorrLocal/data_root_HMV0/18_child_10_002.root',\n",
       " '/Users/hzanoli/cernbox/postdoc/DHFeCorrLocal/data_root_HMV0/17_child_10_010.root',\n",
       " '/Users/hzanoli/cernbox/postdoc/DHFeCorrLocal/data_root_HMV0/17_child_11_010.root',\n",
       " '/Users/hzanoli/cernbox/postdoc/DHFeCorrLocal/data_root_HMV0/17_child_11_006.root',\n",
       " '/Users/hzanoli/cernbox/postdoc/DHFeCorrLocal/data_root_HMV0/17_child_10_006.root',\n",
       " '/Users/hzanoli/cernbox/postdoc/DHFeCorrLocal/data_root_HMV0/16_child_6_006.root',\n",
       " '/Users/hzanoli/cernbox/postdoc/DHFeCorrLocal/data_root_HMV0/18_child_10_018.root',\n",
       " '/Users/hzanoli/cernbox/postdoc/DHFeCorrLocal/data_root_HMV0/16_child_1_.root',\n",
       " '/Users/hzanoli/cernbox/postdoc/DHFeCorrLocal/data_root_HMV0/18_child_6_.root',\n",
       " '/Users/hzanoli/cernbox/postdoc/DHFeCorrLocal/data_root_HMV0/17_child_9_018.root',\n",
       " '/Users/hzanoli/cernbox/postdoc/DHFeCorrLocal/data_root_HMV0/17_child_8_018.root',\n",
       " '/Users/hzanoli/cernbox/postdoc/DHFeCorrLocal/data_root_HMV0/16_child_6_010.root',\n",
       " '/Users/hzanoli/cernbox/postdoc/DHFeCorrLocal/data_root_HMV0/16_child_5_.root',\n",
       " '/Users/hzanoli/cernbox/postdoc/DHFeCorrLocal/data_root_HMV0/18_child_2_.root',\n",
       " '/Users/hzanoli/cernbox/postdoc/DHFeCorrLocal/data_root_HMV0/16_child_6_011.root',\n",
       " '/Users/hzanoli/cernbox/postdoc/DHFeCorrLocal/data_root_HMV0/17_child_9_019.root',\n",
       " '/Users/hzanoli/cernbox/postdoc/DHFeCorrLocal/data_root_HMV0/16_child_6_007.root',\n",
       " '/Users/hzanoli/cernbox/postdoc/DHFeCorrLocal/data_root_HMV0/18_child_10_019.root',\n",
       " '/Users/hzanoli/cernbox/postdoc/DHFeCorrLocal/data_root_HMV0/17_child_11_007.root',\n",
       " '/Users/hzanoli/cernbox/postdoc/DHFeCorrLocal/data_root_HMV0/17_child_10_007.root',\n",
       " '/Users/hzanoli/cernbox/postdoc/DHFeCorrLocal/data_root_HMV0/18_child_11_.root',\n",
       " '/Users/hzanoli/cernbox/postdoc/DHFeCorrLocal/data_root_HMV0/17_child_10_011.root',\n",
       " '/Users/hzanoli/cernbox/postdoc/DHFeCorrLocal/data_root_HMV0/17_child_11_011.root',\n",
       " '/Users/hzanoli/cernbox/postdoc/DHFeCorrLocal/data_root_HMV0/18_child_10_003.root',\n",
       " '/Users/hzanoli/cernbox/postdoc/DHFeCorrLocal/data_root_HMV0/18_child_13_.root',\n",
       " '/Users/hzanoli/cernbox/postdoc/DHFeCorrLocal/data_root_HMV0/17_child_9_003.root',\n",
       " '/Users/hzanoli/cernbox/postdoc/DHFeCorrLocal/data_root_HMV0/17_child_8_003.root',\n",
       " '/Users/hzanoli/cernbox/postdoc/DHFeCorrLocal/data_root_HMV0/17_child_8_015.root',\n",
       " '/Users/hzanoli/cernbox/postdoc/DHFeCorrLocal/data_root_HMV0/17_child_9_015.root',\n",
       " '/Users/hzanoli/cernbox/postdoc/DHFeCorrLocal/data_root_HMV0/18_child_10_015.root',\n",
       " '/Users/hzanoli/cernbox/postdoc/DHFeCorrLocal/data_root_HMV0/16_child_7_.root',\n",
       " '/Users/hzanoli/cernbox/postdoc/DHFeCorrLocal/data_root_HMV0/17_child_11_016.root',\n",
       " '/Users/hzanoli/cernbox/postdoc/DHFeCorrLocal/data_root_HMV0/17_child_10_016.root',\n",
       " '/Users/hzanoli/cernbox/postdoc/DHFeCorrLocal/data_root_HMV0/17_child_9_008.root',\n",
       " '/Users/hzanoli/cernbox/postdoc/DHFeCorrLocal/data_root_HMV0/18_child_7_.root',\n",
       " '/Users/hzanoli/cernbox/postdoc/DHFeCorrLocal/data_root_HMV0/17_child_8_008.root',\n",
       " '/Users/hzanoli/cernbox/postdoc/DHFeCorrLocal/data_root_HMV0/16_child_6_016.root',\n",
       " '/Users/hzanoli/cernbox/postdoc/DHFeCorrLocal/data_root_HMV0/18_child_10_008.root',\n",
       " '/Users/hzanoli/cernbox/postdoc/DHFeCorrLocal/data_root_HMV0/18_child_5_.root',\n",
       " '/Users/hzanoli/cernbox/postdoc/DHFeCorrLocal/data_root_HMV0/16_child_2_.root',\n",
       " '/Users/hzanoli/cernbox/postdoc/DHFeCorrLocal/data_root_HMV0/16_child_6_020.root',\n",
       " '/Users/hzanoli/cernbox/postdoc/DHFeCorrLocal/data_root_HMV0/18_child_10_012.root',\n",
       " '/Users/hzanoli/cernbox/postdoc/DHFeCorrLocal/data_root_HMV0/17_child_11_020.root',\n",
       " '/Users/hzanoli/cernbox/postdoc/DHFeCorrLocal/data_root_HMV0/17_child_9_012.root',\n",
       " '/Users/hzanoli/cernbox/postdoc/DHFeCorrLocal/data_root_HMV0/17_child_8_012.root',\n",
       " '/Users/hzanoli/cernbox/postdoc/DHFeCorrLocal/data_root_HMV0/17_child_8_004.root',\n",
       " '/Users/hzanoli/cernbox/postdoc/DHFeCorrLocal/data_root_HMV0/17_child_9_004.root',\n",
       " '/Users/hzanoli/cernbox/postdoc/DHFeCorrLocal/data_root_HMV0/18_child_10_004.root',\n",
       " '/Users/hzanoli/cernbox/postdoc/DHFeCorrLocal/data_root_HMV0/18_child_10_005.root',\n",
       " '/Users/hzanoli/cernbox/postdoc/DHFeCorrLocal/data_root_HMV0/17_child_8_005.root',\n",
       " '/Users/hzanoli/cernbox/postdoc/DHFeCorrLocal/data_root_HMV0/17_child_9_005.root',\n",
       " '/Users/hzanoli/cernbox/postdoc/DHFeCorrLocal/data_root_HMV0/17_child_11_021.root',\n",
       " '/Users/hzanoli/cernbox/postdoc/DHFeCorrLocal/data_root_HMV0/17_child_9_013.root',\n",
       " '/Users/hzanoli/cernbox/postdoc/DHFeCorrLocal/data_root_HMV0/17_child_8_013.root',\n",
       " '/Users/hzanoli/cernbox/postdoc/DHFeCorrLocal/data_root_HMV0/18_child_10_013.root',\n",
       " '/Users/hzanoli/cernbox/postdoc/DHFeCorrLocal/data_root_HMV0/18_child_12_.root',\n",
       " '/Users/hzanoli/cernbox/postdoc/DHFeCorrLocal/data_root_HMV0/18_child_1_.root',\n",
       " '/Users/hzanoli/cernbox/postdoc/DHFeCorrLocal/data_root_HMV0/16_child_6_021.root',\n",
       " '/Users/hzanoli/cernbox/postdoc/DHFeCorrLocal/data_root_HMV0/16_child_6_017.root',\n",
       " '/Users/hzanoli/cernbox/postdoc/DHFeCorrLocal/data_root_HMV0/18_child_10_009.root',\n",
       " '/Users/hzanoli/cernbox/postdoc/DHFeCorrLocal/data_root_HMV0/17_child_9_009.root',\n",
       " '/Users/hzanoli/cernbox/postdoc/DHFeCorrLocal/data_root_HMV0/17_child_8_009.root',\n",
       " '/Users/hzanoli/cernbox/postdoc/DHFeCorrLocal/data_root_HMV0/16_child_4_.root',\n",
       " '/Users/hzanoli/cernbox/postdoc/DHFeCorrLocal/data_root_HMV0/18_child_3_.root',\n",
       " '/Users/hzanoli/cernbox/postdoc/DHFeCorrLocal/data_root_HMV0/16_child_6_001.root',\n",
       " '/Users/hzanoli/cernbox/postdoc/DHFeCorrLocal/data_root_HMV0/17_child_10_001.root',\n",
       " '/Users/hzanoli/cernbox/postdoc/DHFeCorrLocal/data_root_HMV0/17_child_11_001.root',\n",
       " '/Users/hzanoli/cernbox/postdoc/DHFeCorrLocal/data_root_HMV0/17_child_12_.root',\n",
       " '/Users/hzanoli/cernbox/postdoc/DHFeCorrLocal/data_root_HMV0/17_child_11_017.root',\n",
       " '/Users/hzanoli/cernbox/postdoc/DHFeCorrLocal/data_root_HMV0/17_child_10_017.root']"
      ]
     },
     "execution_count": 5,
     "metadata": {},
     "output_type": "execute_result"
    }
   ],
   "source": [
    "files = glob.glob(path_to_root_file+\"*.root\")\n",
    "files"
   ]
  },
  {
   "cell_type": "code",
   "execution_count": 39,
   "metadata": {},
   "outputs": [],
   "source": [
    "import io"
   ]
  },
  {
   "cell_type": "code",
   "execution_count": 40,
   "metadata": {},
   "outputs": [
    {
     "name": "stdout",
     "output_type": "stream",
     "text": [
      "<_io.StringIO object at 0x1320d8050>\n"
     ]
    }
   ],
   "source": [
    "print(conversor_16)"
   ]
  },
  {
   "cell_type": "code",
   "execution_count": 122,
   "metadata": {},
   "outputs": [],
   "source": [
    "conversor_16 = io.StringIO(\"Child Number\tPeriod\\n\\\n",
    "child 1\tFILTER_p-p_208_LHC16d\\n \\\n",
    "child 2\tFILTER_p-p_208_LHC16e\\n \\\n",
    "child 3\tFILTER_p-p_208_LHC16g\\n \\\n",
    "child 4\tFILTER_p-p_208_LHC16h\\n \\\n",
    "child 5\tFILTER_p-p_208_LHC16j\\n \\\n",
    "child 6\tFILTER_p-p_208_LHC16k\\n \\\n",
    "child 7\tFILTER_p-p_208_LHC16l\\n \\\n",
    "child 8\tFILTER_p-p_208_LHC16o\\n \\\n",
    "child 9\tFILTER_p-p_208_LHC16p\\n \")\n",
    "\n",
    "conversor_17 = io.StringIO(\"Child Number\tPeriod\\n\\\n",
    "child 1\tFILTER_p-p_208_LHC17c\\n\\\n",
    "child 2\tFILTER_p-p_208_LHC17e\\n\\\n",
    "child 3\tFILTER_p-p_208_LHC17f\\n\\\n",
    "child 4\tFILTER_p-p_212_LHC17g\\n\\\n",
    "child 5\tFILTER_p-p_208_LHC17h\\n\\\n",
    "child 6\tFILTER_p-p_208_LHC17i\\n\\\n",
    "child 7\tFILTER_p-p_208_LHC17j\\n\\\n",
    "child 8\tFILTER_p-p_208_LHC17k\\n\\\n",
    "child 9\tFILTER_p-p_208_LHC17l\\n\\\n",
    "child 10\tFILTER_p-p_208_LHC17m\\n\\\n",
    "child 11\tFILTER_p-p_208_LHC17o\\n\\\n",
    "child 12\tFILTER_p-p_208_LHC17r\\n\")\n",
    "\n",
    "conversor_18 = io.StringIO(\"Child Number\tPeriod\\n\\\n",
    "child 1\tFILTER_p-p_208_LHC18b\\n\\\n",
    "child 2\tFILTER_p-p_208_LHC18d\\n\\\n",
    "child 3\tFILTER_p-p_208_LHC18e\\n\\\n",
    "child 4\tFILTER_p-p_208_LHC18f\\n\\\n",
    "child 5\tFILTER_p-p_208_LHC18g\\n\\\n",
    "child 6\tFILTER_p-p_208_LHC18h\\n\\\n",
    "child 7\tFILTER_p-p_208_LHC18i\\n\\\n",
    "child 8\tFILTER_p-p_208_LHC18k\\n\\\n",
    "child 9\tFILTER_p-p_208_LHC18l\\n\\\n",
    "child 10\tFILTER_p-p_208_LHC18m\\n\\\n",
    "child 11\tFILTER_p-p_208_LHC18n\\n\\\n",
    "child 12\tFILTER_p-p_208_LHC18o\\n\\\n",
    "child 13\tFILTER_p-p_208_LHC18p\\n\")\n",
    "        \n",
    "table_convertsion = pd.concat([pd.read_csv(conversor_16, delimiter='\t'), \n",
    "                              pd.read_csv(conversor_17, delimiter='\t'),\n",
    "                            pd.read_csv(conversor_18, delimiter='\t')],ignore_index=True)\n",
    "table_convertsion['Period'] = table_convertsion['Period'].apply(lambda x : x.split('LHC')[1])\n",
    "table_convertsion['Child Number'] = table_convertsion['Child Number'].apply(lambda x: int(x.split('child ')[1]))\n",
    "table_convertsion['Year'] = table_convertsion['Period'].apply(lambda x : x[:2])\n",
    "table_convertsion.set_index(['Year','Child Number'],inplace=True)"
   ]
  },
  {
   "cell_type": "code",
   "execution_count": 120,
   "metadata": {},
   "outputs": [],
   "source": [
    "n_events_with_trigger = list()\n",
    "n_events_with_DHFe = list()\n",
    "\n",
    "for f in files:\n",
    "    file_root = ROOT.TFile.Open(f)\n",
    "    file_root.cd('DHFeCorrelation_D0')\n",
    "    list_event_qa = ROOT.gDirectory.Get('EventsQA')\n",
    "    \n",
    "    events_with_trigger = list_event_qa.FindObject('VertexZ_before')\n",
    "    events_with_trigger.GetXaxis().SetRangeUser(-10.,10.)\n",
    "    n_events = events_with_trigger.Integral()\n",
    "    n_events_with_trigger.append(n_events)\n",
    "    \n",
    "    events_with_DHFe = list_event_qa.FindObject('VertexZ_after')\n",
    "    events_with_DHFe.GetXaxis().SetRangeUser(-10.,10.)\n",
    "    n_events_DHFe = events_with_DHFe.Integral()\n",
    "    n_events_with_DHFe.append(n_events_DHFe)"
   ]
  },
  {
   "cell_type": "code",
   "execution_count": 125,
   "metadata": {},
   "outputs": [],
   "source": [
    "year = [x.split('/')[-1].split('_')[0] for x in files]\n",
    "child_number = [int(('child' + x.split('/')[-1].split('child')[1]).split('.')[0].split('_')[1]) for x in files]\n",
    "event_counts = pd.DataFrame([year, child_number, n_events_with_trigger, n_events_with_DHFe]).T\n",
    "event_counts.columns = ['Year', 'Child Number', 'Number of Events', 'Events with D and e']"
   ]
  },
  {
   "cell_type": "code",
   "execution_count": 124,
   "metadata": {},
   "outputs": [
    {
     "data": {
      "text/html": [
       "<div>\n",
       "<style scoped>\n",
       "    .dataframe tbody tr th:only-of-type {\n",
       "        vertical-align: middle;\n",
       "    }\n",
       "\n",
       "    .dataframe tbody tr th {\n",
       "        vertical-align: top;\n",
       "    }\n",
       "\n",
       "    .dataframe thead th {\n",
       "        text-align: right;\n",
       "    }\n",
       "</style>\n",
       "<table border=\"1\" class=\"dataframe\">\n",
       "  <thead>\n",
       "    <tr style=\"text-align: right;\">\n",
       "      <th></th>\n",
       "      <th></th>\n",
       "      <th>Period</th>\n",
       "    </tr>\n",
       "    <tr>\n",
       "      <th>Year</th>\n",
       "      <th>Child Number</th>\n",
       "      <th></th>\n",
       "    </tr>\n",
       "  </thead>\n",
       "  <tbody>\n",
       "    <tr>\n",
       "      <th rowspan=\"9\" valign=\"top\">16</th>\n",
       "      <th>1</th>\n",
       "      <td>16d</td>\n",
       "    </tr>\n",
       "    <tr>\n",
       "      <th>2</th>\n",
       "      <td>16e</td>\n",
       "    </tr>\n",
       "    <tr>\n",
       "      <th>3</th>\n",
       "      <td>16g</td>\n",
       "    </tr>\n",
       "    <tr>\n",
       "      <th>4</th>\n",
       "      <td>16h</td>\n",
       "    </tr>\n",
       "    <tr>\n",
       "      <th>5</th>\n",
       "      <td>16j</td>\n",
       "    </tr>\n",
       "    <tr>\n",
       "      <th>6</th>\n",
       "      <td>16k</td>\n",
       "    </tr>\n",
       "    <tr>\n",
       "      <th>7</th>\n",
       "      <td>16l</td>\n",
       "    </tr>\n",
       "    <tr>\n",
       "      <th>8</th>\n",
       "      <td>16o</td>\n",
       "    </tr>\n",
       "    <tr>\n",
       "      <th>9</th>\n",
       "      <td>16p</td>\n",
       "    </tr>\n",
       "    <tr>\n",
       "      <th rowspan=\"12\" valign=\"top\">17</th>\n",
       "      <th>1</th>\n",
       "      <td>17c</td>\n",
       "    </tr>\n",
       "    <tr>\n",
       "      <th>2</th>\n",
       "      <td>17e</td>\n",
       "    </tr>\n",
       "    <tr>\n",
       "      <th>3</th>\n",
       "      <td>17f</td>\n",
       "    </tr>\n",
       "    <tr>\n",
       "      <th>4</th>\n",
       "      <td>17g</td>\n",
       "    </tr>\n",
       "    <tr>\n",
       "      <th>5</th>\n",
       "      <td>17h</td>\n",
       "    </tr>\n",
       "    <tr>\n",
       "      <th>6</th>\n",
       "      <td>17i</td>\n",
       "    </tr>\n",
       "    <tr>\n",
       "      <th>7</th>\n",
       "      <td>17j</td>\n",
       "    </tr>\n",
       "    <tr>\n",
       "      <th>8</th>\n",
       "      <td>17k</td>\n",
       "    </tr>\n",
       "    <tr>\n",
       "      <th>9</th>\n",
       "      <td>17l</td>\n",
       "    </tr>\n",
       "    <tr>\n",
       "      <th>10</th>\n",
       "      <td>17m</td>\n",
       "    </tr>\n",
       "    <tr>\n",
       "      <th>11</th>\n",
       "      <td>17o</td>\n",
       "    </tr>\n",
       "    <tr>\n",
       "      <th>12</th>\n",
       "      <td>17r</td>\n",
       "    </tr>\n",
       "    <tr>\n",
       "      <th rowspan=\"13\" valign=\"top\">18</th>\n",
       "      <th>1</th>\n",
       "      <td>18b</td>\n",
       "    </tr>\n",
       "    <tr>\n",
       "      <th>2</th>\n",
       "      <td>18d</td>\n",
       "    </tr>\n",
       "    <tr>\n",
       "      <th>3</th>\n",
       "      <td>18e</td>\n",
       "    </tr>\n",
       "    <tr>\n",
       "      <th>4</th>\n",
       "      <td>18f</td>\n",
       "    </tr>\n",
       "    <tr>\n",
       "      <th>5</th>\n",
       "      <td>18g</td>\n",
       "    </tr>\n",
       "    <tr>\n",
       "      <th>6</th>\n",
       "      <td>18h</td>\n",
       "    </tr>\n",
       "    <tr>\n",
       "      <th>7</th>\n",
       "      <td>18i</td>\n",
       "    </tr>\n",
       "    <tr>\n",
       "      <th>8</th>\n",
       "      <td>18k</td>\n",
       "    </tr>\n",
       "    <tr>\n",
       "      <th>9</th>\n",
       "      <td>18l</td>\n",
       "    </tr>\n",
       "    <tr>\n",
       "      <th>10</th>\n",
       "      <td>18m</td>\n",
       "    </tr>\n",
       "    <tr>\n",
       "      <th>11</th>\n",
       "      <td>18n</td>\n",
       "    </tr>\n",
       "    <tr>\n",
       "      <th>12</th>\n",
       "      <td>18o</td>\n",
       "    </tr>\n",
       "    <tr>\n",
       "      <th>13</th>\n",
       "      <td>18p</td>\n",
       "    </tr>\n",
       "  </tbody>\n",
       "</table>\n",
       "</div>"
      ],
      "text/plain": [
       "                  Period\n",
       "Year Child Number       \n",
       "16   1               16d\n",
       "     2               16e\n",
       "     3               16g\n",
       "     4               16h\n",
       "     5               16j\n",
       "     6               16k\n",
       "     7               16l\n",
       "     8               16o\n",
       "     9               16p\n",
       "17   1               17c\n",
       "     2               17e\n",
       "     3               17f\n",
       "     4               17g\n",
       "     5               17h\n",
       "     6               17i\n",
       "     7               17j\n",
       "     8               17k\n",
       "     9               17l\n",
       "     10              17m\n",
       "     11              17o\n",
       "     12              17r\n",
       "18   1               18b\n",
       "     2               18d\n",
       "     3               18e\n",
       "     4               18f\n",
       "     5               18g\n",
       "     6               18h\n",
       "     7               18i\n",
       "     8               18k\n",
       "     9               18l\n",
       "     10              18m\n",
       "     11              18n\n",
       "     12              18o\n",
       "     13              18p"
      ]
     },
     "execution_count": 124,
     "metadata": {},
     "output_type": "execute_result"
    }
   ],
   "source": []
  },
  {
   "cell_type": "code",
   "execution_count": 130,
   "metadata": {},
   "outputs": [],
   "source": [
    "event_counts = event_counts.groupby(['Year', 'Child Number']).sum().join(table_convertsion).reset_index()"
   ]
  },
  {
   "cell_type": "code",
   "execution_count": 132,
   "metadata": {},
   "outputs": [
    {
     "data": {
      "image/png": "[encoded data removed]",
      "text/plain": [
       "<Figure size 432x288 with 1 Axes>"
      ]
     },
     "metadata": {
      "image/png": {
       "height": 289,
       "width": 398
      },
      "needs_background": "light"
     },
     "output_type": "display_data"
    }
   ],
   "source": [
    "sns.set_context('notebook')\n",
    "ax = event_counts.plot.bar(x='Period', y='Number of Events',\n",
    "                           color='red', label='Number of Events with HMV0 Trigger')\n",
    "ax.set_ylabel('Frequency')\n",
    "\n",
    "ax.get_figure().savefig('All_event_with_trigger.pdf', bbox_inches='tight')"
   ]
  },
  {
   "cell_type": "code",
   "execution_count": 133,
   "metadata": {},
   "outputs": [
    {
     "data": {
      "image/png": "[encoded data removed]",
      "text/plain": [
       "<Figure size 432x288 with 1 Axes>"
      ]
     },
     "metadata": {
      "image/png": {
       "height": 289,
       "width": 383
      },
      "needs_background": "light"
     },
     "output_type": "display_data"
    }
   ],
   "source": [
    "ax = event_counts.plot.bar(x='Period', y='Events with D and e', \n",
    "                           color='red', label='Number of Events with D and e')\n",
    "ax.ticklabel_format(axis='y', style='sci', scilimits=(-2,2))\n",
    "ax.set_ylabel('Frequency')\n",
    "ax.get_figure().savefig('All_event_with_De.pdf', bbox_inches='tight')"
   ]
  },
  {
   "cell_type": "code",
   "execution_count": 134,
   "metadata": {},
   "outputs": [],
   "source": [
    "event_counts['Events with D and e'] = event_counts['Events with D and e'].astype(np.float32)\n",
    "event_counts['Number of Events'] = event_counts['Number of Events'].astype(np.float32)\n",
    "event_counts['ratio'] = event_counts['Events with D and e']/event_counts['Number of Events']\n",
    "\n",
    "event_counts['ratio_error'] = event_counts['ratio']* np.sqrt( \n",
    "    (np.sqrt(event_counts['Events with D and e'])/event_counts['Events with D and e'])** 2  +\n",
    "    (np.sqrt(event_counts['Number of Events'])/event_counts['Number of Events'])** 2)"
   ]
  },
  {
   "cell_type": "code",
   "execution_count": 135,
   "metadata": {},
   "outputs": [
    {
     "data": {
      "image/png": "[encoded data removed]",
      "text/plain": [
       "<Figure size 432x288 with 1 Axes>"
      ]
     },
     "metadata": {
      "image/png": {
       "height": 281,
       "width": 398
      },
      "needs_background": "light"
     },
     "output_type": "display_data"
    }
   ],
   "source": [
    "sns.set_context('notebook')\n",
    "ax = event_counts.plot.bar(x='Period', y='ratio', color='red', label = 'Selected/Total')\n",
    "ax.set_ylim(1.1*np.array(ax.get_ylim()))\n",
    "ax.set_ylabel('Ratio')\n",
    "ax.get_figure().savefig('ratio.pdf', bbox_inches='tight')"
   ]
  },
  {
   "cell_type": "code",
   "execution_count": 145,
   "metadata": {},
   "outputs": [
    {
     "name": "stdout",
     "output_type": "stream",
     "text": [
      "Events with D meson and electrons\n",
      "281.2 M events\n"
     ]
    }
   ],
   "source": [
    "print('Events with D meson and electrons')\n",
    "print('{0:.1f} M events'.format(event_counts['Events with D and e'].sum()/(10**6)))"
   ]
  },
  {
   "cell_type": "code",
   "execution_count": 146,
   "metadata": {},
   "outputs": [
    {
     "name": "stdout",
     "output_type": "stream",
     "text": [
      "All Events\n",
      "1252.6 M events\n"
     ]
    }
   ],
   "source": [
    "print('All Events')\n",
    "print('{0:.1f} M events'.format(event_counts['Number of Events'].sum()/(10**6)))"
   ]
  },
  {
   "cell_type": "code",
   "execution_count": null,
   "metadata": {},
   "outputs": [],
   "source": []
  }
 ],
 "metadata": {
  "kernelspec": {
   "display_name": "Python 3",
   "language": "python",
   "name": "python3"
  },
  "language_info": {
   "codemirror_mode": {
    "name": "ipython",
    "version": 3
   },
   "file_extension": ".py",
   "mimetype": "text/x-python",
   "name": "python",
   "nbconvert_exporter": "python",
   "pygments_lexer": "ipython3",
   "version": "3.7.4"
  },
  "pycharm": {
   "stem_cell": {
    "cell_type": "raw",
    "metadata": {
     "collapsed": false
    },
    "source": []
   }
  }
 },
 "nbformat": 4,
 "nbformat_minor": 1
}
