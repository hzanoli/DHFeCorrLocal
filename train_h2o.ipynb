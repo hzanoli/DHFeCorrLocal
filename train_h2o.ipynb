{
 "cells": [
  {
   "cell_type": "code",
   "execution_count": null,
   "metadata": {},
   "outputs": [],
   "source": [
    "import dhfcorr.io.data_reader as dr\n",
    "import dhfcorr.selection.selection as sl\n",
    "import dhfcorr.qa as qa\n",
    "\n",
    "import pandas as pd\n",
    "import numpy as np\n",
    "\n",
    "random_seed_global = 2303\n",
    "\n",
    "%matplotlib inline\n",
    "#%config InlineBackend.figure_format = 'retina'\n",
    "import matplotlib.pyplot as plt\n",
    "import seaborn as sns\n",
    "sns.set()\n",
    "import h2o"
   ]
  },
  {
   "cell_type": "code",
   "execution_count": null,
   "metadata": {},
   "outputs": [],
   "source": [
    "variables_to_train = ['NormDecayLengthXY','CosP','CosPXY', 'ImpParXY', 'DCA', \n",
    "                      'Normd0MeasMinusExp','PtDaughter0', 'PtDaughter1', 'ReducedChi2', 'D0Prod','CosTs',\n",
    "                      'D0Daughter0', 'D0Daughter1', 'DecayLength', 'DecayLengthXY', 'NormDecayLength', \n",
    "                      'NSigmaTPCDaughter0', 'NSigmaTOFDaughters0', 'NSigmaTPCDaughter1', 'NSigmaTOFDaughters1',\n",
    "                      'SelectionStatusDefaultPID']\n",
    "\n",
    "variables_to_keep = variables_to_train + ['InvMass', 'Pt', 'Eta', 'IsD', 'IsParticleCandidate', 'IsParticle'] \n",
    "\n",
    "bins = [2.0, 3.0, 4.0, 5.0, 6.0, 7.0, 8.0, 10., 12., 16., np.inf]\n",
    "\n",
    "d_cuts = sl.Cuts(None, 'D0')"
   ]
  },
  {
   "cell_type": "markdown",
   "metadata": {},
   "source": [
    "# Get the data for background and signal"
   ]
  },
  {
   "cell_type": "code",
   "execution_count": null,
   "metadata": {},
   "outputs": [],
   "source": [
    "def get_signal():\n",
    "    \n",
    "    d_mesons_mc = dr.load('D0_mc','d_meson')\n",
    "    print(d_mesons_mc.columns)\n",
    "    d_mesons_mc = sl.get_true_dmesons(d_mesons_mc)\n",
    "    \n",
    "    d_mesons_mc['PtBin'] = pd.cut(d_mesons_mc['Pt'],bins=bins)\n",
    "    \n",
    "    return d_mesons_mc"
   ]
  },
  {
   "cell_type": "code",
   "execution_count": null,
   "metadata": {},
   "outputs": [],
   "source": [
    "signal = get_signal()"
   ]
  },
  {
   "cell_type": "code",
   "execution_count": null,
   "metadata": {},
   "outputs": [],
   "source": [
    "mc_shape = signal.groupby('PtBin')['InvMass'].agg({'mean','std'}).reset_index()\n",
    "mc_shape['PtMin'] = mc_shape['PtBin'].apply(lambda x: x.left).astype(np.float)\n",
    "mc_shape['PtMax'] = mc_shape['PtBin'].apply(lambda x: x.right).astype(np.float)\n",
    "mc_shape['PtMid'] = mc_shape['PtBin'].apply(lambda x: x.mid).astype(np.float)\n",
    "mc_shape['XErr'] = mc_shape['PtBin'].apply(lambda x: x.length/2.).astype(np.float)\n",
    "mc_shape.set_index('PtBin',inplace=True)"
   ]
  },
  {
   "cell_type": "code",
   "execution_count": null,
   "metadata": {},
   "outputs": [],
   "source": [
    "fig, ax = plt.subplots()\n",
    "ax.errorbar(x=mc_shape['PtMid'].values, y=mc_shape['mean'].values, xerr=mc_shape['XErr'].values, yerr=mc_shape['std'].values, fmt='o')\n",
    "ax.set_xlabel('$p_{T}$ [GeV/$c$]')\n",
    "ax.set_ylabel('Invariant Mass [GeV]')"
   ]
  },
  {
   "cell_type": "code",
   "execution_count": null,
   "metadata": {},
   "outputs": [],
   "source": [
    "mc_shape.reset_index(drop=True).to_parquet('mc_mean_sigma.parquet')"
   ]
  },
  {
   "cell_type": "code",
   "execution_count": null,
   "metadata": {},
   "outputs": [],
   "source": [
    "number_of_signal_particles = signal.groupby(by='PtBin')['Pt'].count()\n",
    "number_of_signal_particles"
   ]
  },
  {
   "cell_type": "code",
   "execution_count": 139,
   "metadata": {},
   "outputs": [],
   "source": [
    "def get_bkg(n_sigma = 4.0, n_bkg = 1.0, config='D0'):\n",
    "    \n",
    "    print(\"Reading dataset for bkg\")\n",
    "    bkg = dr.load(config,'d_meson')    \n",
    "    \n",
    "    print(\"Divinding into Pt Bins\")\n",
    "    # Divide in Pt Bins\n",
    "    bkg['PtBin'] = pd.cut(bkg['Pt'],bins=bins)\n",
    "    bkg.dropna('index',inplace=True)\n",
    "    \n",
    "    print(\"Rejecting particles in the signal region\")\n",
    "    # Get the mass limits to reject signal reagion\n",
    "    limits = mc_shape.loc[bkg['Pt']].reset_index(drop=True)\n",
    "    inv_mass_no_index = bkg['InvMass'].reset_index(drop=True)\n",
    "    bkg.reset_index(drop=True, inplace=True)\n",
    "\n",
    "    smaller = inv_mass_no_index < (limits['mean']-n_sigma*limits['std'])\n",
    "    greater = inv_mass_no_index > (limits['mean']+n_sigma*limits['std'])\n",
    "    bkg = bkg[smaller|greater]\n",
    "    \n",
    "    print(\"Reducing total number of background for training\")\n",
    "    filtered = bkg.groupby(by='PtBin').apply(lambda x: x.head(2*number_of_signal_particles.loc[x.name]))\n",
    "    \n",
    "    return filtered.reset_index(drop=True)"
   ]
  },
  {
   "cell_type": "code",
   "execution_count": null,
   "metadata": {},
   "outputs": [],
   "source": [
    "background = get_bkg()"
   ]
  },
  {
   "cell_type": "code",
   "execution_count": null,
   "metadata": {},
   "outputs": [],
   "source": [
    "background.groupby(by='PtBin')['Pt'].count()"
   ]
  },
  {
   "cell_type": "code",
   "execution_count": null,
   "metadata": {},
   "outputs": [],
   "source": [
    "background['IsD'] = False\n",
    "background['IsParticle'] = False"
   ]
  },
  {
   "cell_type": "code",
   "execution_count": null,
   "metadata": {},
   "outputs": [],
   "source": [
    "dataset = pd.concat([background[variables_to_keep],signal[variables_to_keep]])"
   ]
  },
  {
   "cell_type": "code",
   "execution_count": null,
   "metadata": {},
   "outputs": [],
   "source": [
    "del background, signal"
   ]
  },
  {
   "cell_type": "code",
   "execution_count": null,
   "metadata": {},
   "outputs": [],
   "source": [
    "for col in dataset.columns:\n",
    "    if dataset[col].dtype == np.float64:\n",
    "        dataset[col] = dataset[col].astype(np.float32)"
   ]
  },
  {
   "cell_type": "code",
   "execution_count": null,
   "metadata": {},
   "outputs": [],
   "source": [
    "dataset.drop('PtBin', axis='columns').to_parquet('ml_datasets/train_pp13TeV.parquet')"
   ]
  },
  {
   "cell_type": "code",
   "execution_count": 3,
   "metadata": {},
   "outputs": [],
   "source": [
    "dataset = pd.read_parquet('ml_datasets/train_pp13TeV.parquet')"
   ]
  },
  {
   "cell_type": "code",
   "execution_count": 4,
   "metadata": {},
   "outputs": [],
   "source": [
    "dataset['PtBin'] = pd.cut(dataset['Pt'], bins=bins)\n",
    "def sample(x, n):\n",
    "    if len(x) < n :\n",
    "        return x\n",
    "    else:\n",
    "        return x.sample(n)\n",
    "subset = dataset.groupby(by='PtBin').apply(lambda x: sample(x,600000))"
   ]
  },
  {
   "cell_type": "code",
   "execution_count": 5,
   "metadata": {},
   "outputs": [],
   "source": [
    "subset.reset_index(drop=True,inplace=True)"
   ]
  },
  {
   "cell_type": "code",
   "execution_count": 6,
   "metadata": {},
   "outputs": [
    {
     "data": {
      "text/plain": [
       "PtBin\n",
       "(2.0, 3.0]      600000\n",
       "(3.0, 4.0]      600000\n",
       "(4.0, 5.0]      600000\n",
       "(5.0, 6.0]      600000\n",
       "(6.0, 7.0]      600000\n",
       "(7.0, 8.0]      600000\n",
       "(8.0, 10.0]     600000\n",
       "(10.0, 12.0]    343873\n",
       "(12.0, 16.0]    283061\n",
       "(16.0, inf]     173623\n",
       "Name: Pt, dtype: int64"
      ]
     },
     "execution_count": 6,
     "metadata": {},
     "output_type": "execute_result"
    }
   ],
   "source": [
    "subset.groupby(by='PtBin')['Pt'].count()"
   ]
  },
  {
   "cell_type": "code",
   "execution_count": 7,
   "metadata": {},
   "outputs": [],
   "source": [
    "del dataset\n",
    "dataset = subset"
   ]
  },
  {
   "cell_type": "code",
   "execution_count": 8,
   "metadata": {
    "scrolled": true
   },
   "outputs": [
    {
     "name": "stdout",
     "output_type": "stream",
     "text": [
      "Checking whether there is an H2O instance running at http://localhost:54321 ..... not found.\n",
      "Attempting to start a local H2O server...\n",
      "  Java Version: java version \"1.8.0_211\"; Java(TM) SE Runtime Environment (build 1.8.0_211-b12); Java HotSpot(TM) 64-Bit Server VM (build 25.211-b12, mixed mode)\n",
      "  Starting server from /Users/hzanoli/Library/Python/3.7/lib/python/site-packages/h2o/backend/bin/h2o.jar\n",
      "  Ice root: /var/folders/4t/zk1rccns5072p70dx_nkmx300000gn/T/tmpk_fenkg9\n",
      "  JVM stdout: /var/folders/4t/zk1rccns5072p70dx_nkmx300000gn/T/tmpk_fenkg9/h2o_hzanoli_started_from_python.out\n",
      "  JVM stderr: /var/folders/4t/zk1rccns5072p70dx_nkmx300000gn/T/tmpk_fenkg9/h2o_hzanoli_started_from_python.err\n",
      "  Server is running at http://127.0.0.1:54321\n",
      "Connecting to H2O server at http://127.0.0.1:54321 ... successful.\n"
     ]
    },
    {
     "data": {
      "text/html": [
       "<div style=\"overflow:auto\"><table style=\"width:50%\"><tr><td>H2O cluster uptime:</td>\n",
       "<td>02 secs</td></tr>\n",
       "<tr><td>H2O cluster timezone:</td>\n",
       "<td>Europe/Amsterdam</td></tr>\n",
       "<tr><td>H2O data parsing timezone:</td>\n",
       "<td>UTC</td></tr>\n",
       "<tr><td>H2O cluster version:</td>\n",
       "<td>3.24.0.4</td></tr>\n",
       "<tr><td>H2O cluster version age:</td>\n",
       "<td>2 months and 8 days </td></tr>\n",
       "<tr><td>H2O cluster name:</td>\n",
       "<td>H2O_from_python_hzanoli_lcmcp2</td></tr>\n",
       "<tr><td>H2O cluster total nodes:</td>\n",
       "<td>1</td></tr>\n",
       "<tr><td>H2O cluster free memory:</td>\n",
       "<td>17.78 Gb</td></tr>\n",
       "<tr><td>H2O cluster total cores:</td>\n",
       "<td>0</td></tr>\n",
       "<tr><td>H2O cluster allowed cores:</td>\n",
       "<td>0</td></tr>\n",
       "<tr><td>H2O cluster status:</td>\n",
       "<td>accepting new members, healthy</td></tr>\n",
       "<tr><td>H2O connection url:</td>\n",
       "<td>http://127.0.0.1:54321</td></tr>\n",
       "<tr><td>H2O connection proxy:</td>\n",
       "<td>None</td></tr>\n",
       "<tr><td>H2O internal security:</td>\n",
       "<td>False</td></tr>\n",
       "<tr><td>H2O API Extensions:</td>\n",
       "<td>Amazon S3, XGBoost, Algos, AutoML, Core V3, Core V4</td></tr>\n",
       "<tr><td>Python version:</td>\n",
       "<td>3.7.4 final</td></tr></table></div>"
      ],
      "text/plain": [
       "--------------------------  ---------------------------------------------------\n",
       "H2O cluster uptime:         02 secs\n",
       "H2O cluster timezone:       Europe/Amsterdam\n",
       "H2O data parsing timezone:  UTC\n",
       "H2O cluster version:        3.24.0.4\n",
       "H2O cluster version age:    2 months and 8 days\n",
       "H2O cluster name:           H2O_from_python_hzanoli_lcmcp2\n",
       "H2O cluster total nodes:    1\n",
       "H2O cluster free memory:    17.78 Gb\n",
       "H2O cluster total cores:    0\n",
       "H2O cluster allowed cores:  0\n",
       "H2O cluster status:         accepting new members, healthy\n",
       "H2O connection url:         http://127.0.0.1:54321\n",
       "H2O connection proxy:\n",
       "H2O internal security:      False\n",
       "H2O API Extensions:         Amazon S3, XGBoost, Algos, AutoML, Core V3, Core V4\n",
       "Python version:             3.7.4 final\n",
       "--------------------------  ---------------------------------------------------"
      ]
     },
     "metadata": {},
     "output_type": "display_data"
    }
   ],
   "source": [
    "h2o.init(max_mem_size='20G')"
   ]
  },
  {
   "cell_type": "code",
   "execution_count": 9,
   "metadata": {},
   "outputs": [
    {
     "name": "stdout",
     "output_type": "stream",
     "text": [
      "Parse progress: |█████████████████████████████████████████████████████████| 100%\n",
      "xgboost Model Build progress: |███████████████████████████████████████████| 100%\n",
      "Parse progress: |█████████████████████████████████████████████████████████| 100%\n",
      "xgboost Model Build progress: |███████████████████████████████████████████| 100%\n",
      "Parse progress: |█████████████████████████████████████████████████████████| 100%\n",
      "xgboost Model Build progress: |███████████████████████████████████████████| 100%\n",
      "Parse progress: |█████████████████████████████████████████████████████████| 100%\n",
      "xgboost Model Build progress: |███████████████████████████████████████████| 100%\n",
      "Parse progress: |█████████████████████████████████████████████████████████| 100%\n",
      "xgboost Model Build progress: |███████████████████████████████████████████| 100%\n",
      "Parse progress: |█████████████████████████████████████████████████████████| 100%\n",
      "xgboost Model Build progress: |███████████████████████████████████████████| 100%\n",
      "Parse progress: |█████████████████████████████████████████████████████████| 100%\n",
      "xgboost Model Build progress: |███████████████████████████████████████████| 100%\n",
      "Parse progress: |█████████████████████████████████████████████████████████| 100%\n",
      "xgboost Model Build progress: |███████████████████████████████████████████| 100%\n",
      "Parse progress: |█████████████████████████████████████████████████████████| 100%\n",
      "xgboost Model Build progress: |███████████████████████████████████████████| 100%\n",
      "Parse progress: |█████████████████████████████████████████████████████████| 100%\n",
      "xgboost Model Build progress: |███████████████████████████████████████████| 100%\n"
     ]
    }
   ],
   "source": [
    "rf_models = list()\n",
    "dataframes_h20 = list()\n",
    "test_frames = list()\n",
    "performance_model = list()\n",
    "\n",
    "\n",
    "for name, data in dataset.groupby(by='PtBin'):\n",
    "    \n",
    "    data = data.drop('PtBin',axis='columns')\n",
    "    split = 0.5\n",
    "    \n",
    "    data.to_parquet('temp.parquet')\n",
    "    file = 'temp.parquet'\n",
    "    \n",
    "    covtype_df = h2o.import_file(file)\n",
    "    \n",
    "    covtype_df['IsD'] = covtype_df['IsD'].asfactor()\n",
    "    \n",
    "    dataframes_h20.append(covtype_df)\n",
    "    \n",
    "    covtype_X = variables_to_train\n",
    "    covtype_y = 'IsD'\n",
    "    \n",
    "    train, test = covtype_df.split_frame([split], seed=1234)\n",
    "    test_frames.append(test)\n",
    "    \n",
    "    parameters = {'ntrees': 850,\n",
    "                  'min_child_weight': 3,\n",
    "                  'max_depth': 4,\n",
    "                  'gamma': 0.,\n",
    "                  'sample_rate': 0.8,\n",
    "                  'col_sample_rate': 0.3,\n",
    "                  'learn_rate': 0.1}\n",
    "    \n",
    "    rf_v1 = h2o.estimators.xgboost.H2OXGBoostEstimator(**parameters)    \n",
    "    rf_v1.train(covtype_X, covtype_y, training_frame=train)\n",
    "    \n",
    "    rf_models.append(rf_v1)\n",
    "    perf = rf_v1.model_performance(test_data=test)\n",
    "    performance_model.append(perf)"
   ]
  },
  {
   "cell_type": "code",
   "execution_count": 112,
   "metadata": {},
   "outputs": [
    {
     "data": {
      "text/plain": [
       "<module 'dhfcorr.selection.selection' from '/Users/hzanoli/cernbox/postdoc/DHFeCorrLocal/dhfcorr/selection/selection.py'>"
      ]
     },
     "execution_count": 112,
     "metadata": {},
     "output_type": "execute_result"
    }
   ],
   "source": [
    "import importlib\n",
    "importlib.reload(sl)"
   ]
  },
  {
   "cell_type": "markdown",
   "metadata": {},
   "source": [
    "Compare to default cuts"
   ]
  },
  {
   "cell_type": "code",
   "execution_count": 113,
   "metadata": {},
   "outputs": [
    {
     "name": "stdout",
     "output_type": "stream",
     "text": [
      "0\n",
      "0\n",
      "17829\n",
      "0\n",
      "0\n",
      "0\n",
      "0\n",
      "0\n",
      "0\n",
      "0\n",
      "0\n",
      "0\n",
      "0\n",
      "17829\n",
      "0\n",
      "0\n",
      "0\n",
      "29578\n",
      "0\n",
      "0\n",
      "0\n",
      "0\n",
      "0\n",
      "0\n",
      "0\n",
      "0\n",
      "0\n",
      "29578\n",
      "0\n",
      "0\n",
      "0\n",
      "0\n",
      "61084\n",
      "0\n",
      "0\n",
      "0\n",
      "0\n",
      "0\n",
      "0\n",
      "0\n",
      "0\n",
      "61084\n",
      "0\n",
      "0\n",
      "0\n",
      "0\n",
      "0\n",
      "106607\n",
      "0\n",
      "0\n",
      "0\n",
      "0\n",
      "0\n",
      "0\n",
      "0\n",
      "106607\n",
      "0\n",
      "0\n",
      "0\n",
      "0\n",
      "0\n",
      "0\n",
      "133385\n",
      "0\n",
      "0\n",
      "0\n",
      "0\n",
      "0\n",
      "0\n",
      "133385\n",
      "0\n",
      "0\n",
      "0\n",
      "0\n",
      "0\n",
      "0\n",
      "0\n",
      "145389\n",
      "0\n",
      "0\n",
      "0\n",
      "0\n",
      "0\n",
      "145389\n",
      "0\n",
      "0\n",
      "0\n",
      "0\n",
      "0\n",
      "0\n",
      "0\n",
      "0\n",
      "173531\n",
      "0\n",
      "0\n",
      "0\n",
      "0\n",
      "173531\n",
      "0\n",
      "0\n",
      "0\n",
      "0\n",
      "0\n",
      "0\n",
      "0\n",
      "0\n",
      "0\n",
      "101254\n",
      "0\n",
      "0\n",
      "0\n",
      "101254\n",
      "0\n",
      "0\n",
      "0\n",
      "0\n",
      "0\n",
      "0\n",
      "0\n",
      "0\n",
      "0\n",
      "0\n",
      "94677\n",
      "0\n",
      "0\n",
      "94677\n",
      "0\n",
      "0\n",
      "0\n",
      "0\n",
      "0\n",
      "0\n",
      "0\n",
      "0\n",
      "0\n",
      "0\n",
      "0\n",
      "46088\n",
      "10800\n",
      "56888\n"
     ]
    }
   ],
   "source": [
    "selection_for_ptbin = sl.Cuts('cuts_jets.yaml')\n",
    "\n",
    "filtered = list()\n",
    "for test,i in zip(test_frames,range(len(test_frames))):\n",
    "    df = test.as_data_frame()\n",
    "    selected = sl.filter_in_pt_bins(df,selection_for_ptbin)\n",
    "    filtered.append(selected)"
   ]
  },
  {
   "cell_type": "code",
   "execution_count": 121,
   "metadata": {},
   "outputs": [
    {
     "data": {
      "text/plain": [
       "Index(['NormDecayLengthXY', 'CosP', 'CosPXY', 'ImpParXY', 'DCA',\n",
       "       'Normd0MeasMinusExp', 'PtDaughter0', 'PtDaughter1', 'ReducedChi2',\n",
       "       'D0Prod', 'CosTs', 'D0Daughter0', 'D0Daughter1', 'DecayLength',\n",
       "       'DecayLengthXY', 'NormDecayLength', 'NSigmaTPCDaughter0',\n",
       "       'NSigmaTOFDaughters0', 'NSigmaTPCDaughter1', 'NSigmaTOFDaughters1',\n",
       "       'SelectionStatusDefaultPID', 'InvMass', 'Pt', 'Eta', 'IsD',\n",
       "       'IsParticleCandidate', 'IsParticle', '__index_level_0__'],\n",
       "      dtype='object')"
      ]
     },
     "execution_count": 121,
     "metadata": {},
     "output_type": "execute_result"
    }
   ],
   "source": [
    "filtered[0].columns"
   ]
  },
  {
   "cell_type": "code",
   "execution_count": 127,
   "metadata": {},
   "outputs": [],
   "source": [
    "def signal_efficiency(before,after):\n",
    "    n_before = len(before[before['IsD']=='1'])\n",
    "    n_after = len(after[after['IsD']==True])\n",
    "    return float(n_after/n_before)\n",
    "\n",
    "def bkg_efficiency(before,after):\n",
    "    n_before = len(before[before['IsD']=='0'])\n",
    "    n_after = len(after[after['IsD']==False])\n",
    "    \n",
    "    return float(n_after/n_before)\n",
    "\n",
    "def calculate_efficiencies(before,after):\n",
    "    return (signal_efficiency(before,after),bkg_efficiency(before,after))"
   ]
  },
  {
   "cell_type": "code",
   "execution_count": 128,
   "metadata": {},
   "outputs": [],
   "source": [
    "bkg_eff = list()\n",
    "signal_eff = list()\n",
    "\n",
    "for before, after in zip(test_frames,filtered):\n",
    "    effs = calculate_efficiencies(before,after)\n",
    "    signal_eff.append(effs[0])\n",
    "    bkg_eff.append(effs[1])"
   ]
  },
  {
   "cell_type": "code",
   "execution_count": 130,
   "metadata": {},
   "outputs": [
    {
     "name": "stdout",
     "output_type": "stream",
     "text": [
      "xgboost prediction progress: |████████████████████████████████████████████| 100%\n"
     ]
    },
    {
     "data": {
      "text/html": [
       "<table>\n",
       "<thead>\n",
       "<tr><th style=\"text-align: right;\">  predict</th><th style=\"text-align: right;\">        p0</th><th style=\"text-align: right;\">         p1</th></tr>\n",
       "</thead>\n",
       "<tbody>\n",
       "<tr><td style=\"text-align: right;\">        0</td><td style=\"text-align: right;\">0.994392  </td><td style=\"text-align: right;\">0.00560758 </td></tr>\n",
       "<tr><td style=\"text-align: right;\">        0</td><td style=\"text-align: right;\">0.999758  </td><td style=\"text-align: right;\">0.000242416</td></tr>\n",
       "<tr><td style=\"text-align: right;\">        1</td><td style=\"text-align: right;\">0.554001  </td><td style=\"text-align: right;\">0.445999   </td></tr>\n",
       "<tr><td style=\"text-align: right;\">        1</td><td style=\"text-align: right;\">0.00296915</td><td style=\"text-align: right;\">0.997031   </td></tr>\n",
       "<tr><td style=\"text-align: right;\">        0</td><td style=\"text-align: right;\">0.998571  </td><td style=\"text-align: right;\">0.0014291  </td></tr>\n",
       "<tr><td style=\"text-align: right;\">        0</td><td style=\"text-align: right;\">0.924393  </td><td style=\"text-align: right;\">0.0756066  </td></tr>\n",
       "<tr><td style=\"text-align: right;\">        1</td><td style=\"text-align: right;\">0.0266766 </td><td style=\"text-align: right;\">0.973323   </td></tr>\n",
       "<tr><td style=\"text-align: right;\">        1</td><td style=\"text-align: right;\">0.212212  </td><td style=\"text-align: right;\">0.787788   </td></tr>\n",
       "<tr><td style=\"text-align: right;\">        0</td><td style=\"text-align: right;\">0.878747  </td><td style=\"text-align: right;\">0.121253   </td></tr>\n",
       "<tr><td style=\"text-align: right;\">        1</td><td style=\"text-align: right;\">0.482129  </td><td style=\"text-align: right;\">0.517871   </td></tr>\n",
       "</tbody>\n",
       "</table>"
      ]
     },
     "metadata": {},
     "output_type": "display_data"
    },
    {
     "name": "stdout",
     "output_type": "stream",
     "text": [
      "\n",
      "xgboost prediction progress: |████████████████████████████████████████████| 100%\n"
     ]
    },
    {
     "data": {
      "text/html": [
       "<table>\n",
       "<thead>\n",
       "<tr><th style=\"text-align: right;\">  predict</th><th style=\"text-align: right;\">        p0</th><th style=\"text-align: right;\">         p1</th></tr>\n",
       "</thead>\n",
       "<tbody>\n",
       "<tr><td style=\"text-align: right;\">        1</td><td style=\"text-align: right;\">0.52193   </td><td style=\"text-align: right;\">0.47807    </td></tr>\n",
       "<tr><td style=\"text-align: right;\">        0</td><td style=\"text-align: right;\">0.999997  </td><td style=\"text-align: right;\">2.57358e-06</td></tr>\n",
       "<tr><td style=\"text-align: right;\">        1</td><td style=\"text-align: right;\">0.0193246 </td><td style=\"text-align: right;\">0.980675   </td></tr>\n",
       "<tr><td style=\"text-align: right;\">        1</td><td style=\"text-align: right;\">0.00323761</td><td style=\"text-align: right;\">0.996762   </td></tr>\n",
       "<tr><td style=\"text-align: right;\">        0</td><td style=\"text-align: right;\">0.800071  </td><td style=\"text-align: right;\">0.199929   </td></tr>\n",
       "<tr><td style=\"text-align: right;\">        0</td><td style=\"text-align: right;\">0.999769  </td><td style=\"text-align: right;\">0.000231057</td></tr>\n",
       "<tr><td style=\"text-align: right;\">        1</td><td style=\"text-align: right;\">0.0291204 </td><td style=\"text-align: right;\">0.97088    </td></tr>\n",
       "<tr><td style=\"text-align: right;\">        1</td><td style=\"text-align: right;\">0.0251017 </td><td style=\"text-align: right;\">0.974898   </td></tr>\n",
       "<tr><td style=\"text-align: right;\">        1</td><td style=\"text-align: right;\">0.00911403</td><td style=\"text-align: right;\">0.990886   </td></tr>\n",
       "<tr><td style=\"text-align: right;\">        1</td><td style=\"text-align: right;\">0.345831  </td><td style=\"text-align: right;\">0.654169   </td></tr>\n",
       "</tbody>\n",
       "</table>"
      ]
     },
     "metadata": {},
     "output_type": "display_data"
    },
    {
     "name": "stdout",
     "output_type": "stream",
     "text": [
      "\n",
      "xgboost prediction progress: |████████████████████████████████████████████| 100%\n"
     ]
    },
    {
     "data": {
      "text/html": [
       "<table>\n",
       "<thead>\n",
       "<tr><th style=\"text-align: right;\">  predict</th><th style=\"text-align: right;\">       p0</th><th style=\"text-align: right;\">         p1</th></tr>\n",
       "</thead>\n",
       "<tbody>\n",
       "<tr><td style=\"text-align: right;\">        0</td><td style=\"text-align: right;\">0.999982 </td><td style=\"text-align: right;\">1.83137e-05</td></tr>\n",
       "<tr><td style=\"text-align: right;\">        0</td><td style=\"text-align: right;\">0.995201 </td><td style=\"text-align: right;\">0.00479937 </td></tr>\n",
       "<tr><td style=\"text-align: right;\">        1</td><td style=\"text-align: right;\">0.0399884</td><td style=\"text-align: right;\">0.960012   </td></tr>\n",
       "<tr><td style=\"text-align: right;\">        1</td><td style=\"text-align: right;\">0.314911 </td><td style=\"text-align: right;\">0.685089   </td></tr>\n",
       "<tr><td style=\"text-align: right;\">        0</td><td style=\"text-align: right;\">0.999944 </td><td style=\"text-align: right;\">5.56491e-05</td></tr>\n",
       "<tr><td style=\"text-align: right;\">        0</td><td style=\"text-align: right;\">0.999978 </td><td style=\"text-align: right;\">2.15178e-05</td></tr>\n",
       "<tr><td style=\"text-align: right;\">        0</td><td style=\"text-align: right;\">0.999524 </td><td style=\"text-align: right;\">0.000475687</td></tr>\n",
       "<tr><td style=\"text-align: right;\">        1</td><td style=\"text-align: right;\">0.0656714</td><td style=\"text-align: right;\">0.934329   </td></tr>\n",
       "<tr><td style=\"text-align: right;\">        1</td><td style=\"text-align: right;\">0.138042 </td><td style=\"text-align: right;\">0.861958   </td></tr>\n",
       "<tr><td style=\"text-align: right;\">        0</td><td style=\"text-align: right;\">0.99971  </td><td style=\"text-align: right;\">0.000289757</td></tr>\n",
       "</tbody>\n",
       "</table>"
      ]
     },
     "metadata": {},
     "output_type": "display_data"
    },
    {
     "name": "stdout",
     "output_type": "stream",
     "text": [
      "\n",
      "xgboost prediction progress: |████████████████████████████████████████████| 100%\n"
     ]
    },
    {
     "data": {
      "text/html": [
       "<table>\n",
       "<thead>\n",
       "<tr><th style=\"text-align: right;\">  predict</th><th style=\"text-align: right;\">        p0</th><th style=\"text-align: right;\">         p1</th></tr>\n",
       "</thead>\n",
       "<tbody>\n",
       "<tr><td style=\"text-align: right;\">        0</td><td style=\"text-align: right;\">0.931713  </td><td style=\"text-align: right;\">0.0682869  </td></tr>\n",
       "<tr><td style=\"text-align: right;\">        1</td><td style=\"text-align: right;\">0.145951  </td><td style=\"text-align: right;\">0.854049   </td></tr>\n",
       "<tr><td style=\"text-align: right;\">        1</td><td style=\"text-align: right;\">0.011506  </td><td style=\"text-align: right;\">0.988494   </td></tr>\n",
       "<tr><td style=\"text-align: right;\">        1</td><td style=\"text-align: right;\">0.0663239 </td><td style=\"text-align: right;\">0.933676   </td></tr>\n",
       "<tr><td style=\"text-align: right;\">        0</td><td style=\"text-align: right;\">0.999862  </td><td style=\"text-align: right;\">0.000137494</td></tr>\n",
       "<tr><td style=\"text-align: right;\">        1</td><td style=\"text-align: right;\">0.0762002 </td><td style=\"text-align: right;\">0.9238     </td></tr>\n",
       "<tr><td style=\"text-align: right;\">        0</td><td style=\"text-align: right;\">0.99961   </td><td style=\"text-align: right;\">0.000390207</td></tr>\n",
       "<tr><td style=\"text-align: right;\">        1</td><td style=\"text-align: right;\">0.0385098 </td><td style=\"text-align: right;\">0.96149    </td></tr>\n",
       "<tr><td style=\"text-align: right;\">        1</td><td style=\"text-align: right;\">0.00787055</td><td style=\"text-align: right;\">0.992129   </td></tr>\n",
       "<tr><td style=\"text-align: right;\">        0</td><td style=\"text-align: right;\">0.998447  </td><td style=\"text-align: right;\">0.00155266 </td></tr>\n",
       "</tbody>\n",
       "</table>"
      ]
     },
     "metadata": {},
     "output_type": "display_data"
    },
    {
     "name": "stdout",
     "output_type": "stream",
     "text": [
      "\n",
      "xgboost prediction progress: |████████████████████████████████████████████| 100%\n"
     ]
    },
    {
     "data": {
      "text/html": [
       "<table>\n",
       "<thead>\n",
       "<tr><th style=\"text-align: right;\">  predict</th><th style=\"text-align: right;\">        p0</th><th style=\"text-align: right;\">       p1</th></tr>\n",
       "</thead>\n",
       "<tbody>\n",
       "<tr><td style=\"text-align: right;\">        1</td><td style=\"text-align: right;\">0.0160832 </td><td style=\"text-align: right;\">0.983917 </td></tr>\n",
       "<tr><td style=\"text-align: right;\">        1</td><td style=\"text-align: right;\">0.0100622 </td><td style=\"text-align: right;\">0.989938 </td></tr>\n",
       "<tr><td style=\"text-align: right;\">        1</td><td style=\"text-align: right;\">0.00969458</td><td style=\"text-align: right;\">0.990305 </td></tr>\n",
       "<tr><td style=\"text-align: right;\">        1</td><td style=\"text-align: right;\">0.067044  </td><td style=\"text-align: right;\">0.932956 </td></tr>\n",
       "<tr><td style=\"text-align: right;\">        1</td><td style=\"text-align: right;\">0.0332791 </td><td style=\"text-align: right;\">0.966721 </td></tr>\n",
       "<tr><td style=\"text-align: right;\">        1</td><td style=\"text-align: right;\">0.0136169 </td><td style=\"text-align: right;\">0.986383 </td></tr>\n",
       "<tr><td style=\"text-align: right;\">        0</td><td style=\"text-align: right;\">0.906599  </td><td style=\"text-align: right;\">0.0934007</td></tr>\n",
       "<tr><td style=\"text-align: right;\">        1</td><td style=\"text-align: right;\">0.00412178</td><td style=\"text-align: right;\">0.995878 </td></tr>\n",
       "<tr><td style=\"text-align: right;\">        1</td><td style=\"text-align: right;\">0.231044  </td><td style=\"text-align: right;\">0.768956 </td></tr>\n",
       "<tr><td style=\"text-align: right;\">        1</td><td style=\"text-align: right;\">0.270272  </td><td style=\"text-align: right;\">0.729728 </td></tr>\n",
       "</tbody>\n",
       "</table>"
      ]
     },
     "metadata": {},
     "output_type": "display_data"
    },
    {
     "name": "stdout",
     "output_type": "stream",
     "text": [
      "\n",
      "xgboost prediction progress: |████████████████████████████████████████████| 100%\n"
     ]
    },
    {
     "data": {
      "text/html": [
       "<table>\n",
       "<thead>\n",
       "<tr><th style=\"text-align: right;\">  predict</th><th style=\"text-align: right;\">        p0</th><th style=\"text-align: right;\">      p1</th></tr>\n",
       "</thead>\n",
       "<tbody>\n",
       "<tr><td style=\"text-align: right;\">        1</td><td style=\"text-align: right;\">0.0139832 </td><td style=\"text-align: right;\">0.986017</td></tr>\n",
       "<tr><td style=\"text-align: right;\">        1</td><td style=\"text-align: right;\">0.00143498</td><td style=\"text-align: right;\">0.998565</td></tr>\n",
       "<tr><td style=\"text-align: right;\">        1</td><td style=\"text-align: right;\">0.0153727 </td><td style=\"text-align: right;\">0.984627</td></tr>\n",
       "<tr><td style=\"text-align: right;\">        1</td><td style=\"text-align: right;\">0.0799479 </td><td style=\"text-align: right;\">0.920052</td></tr>\n",
       "<tr><td style=\"text-align: right;\">        0</td><td style=\"text-align: right;\">0.768686  </td><td style=\"text-align: right;\">0.231314</td></tr>\n",
       "<tr><td style=\"text-align: right;\">        1</td><td style=\"text-align: right;\">0.0163659 </td><td style=\"text-align: right;\">0.983634</td></tr>\n",
       "<tr><td style=\"text-align: right;\">        1</td><td style=\"text-align: right;\">0.00743872</td><td style=\"text-align: right;\">0.992561</td></tr>\n",
       "<tr><td style=\"text-align: right;\">        0</td><td style=\"text-align: right;\">0.589078  </td><td style=\"text-align: right;\">0.410922</td></tr>\n",
       "<tr><td style=\"text-align: right;\">        1</td><td style=\"text-align: right;\">0.272851  </td><td style=\"text-align: right;\">0.727149</td></tr>\n",
       "<tr><td style=\"text-align: right;\">        1</td><td style=\"text-align: right;\">0.00377029</td><td style=\"text-align: right;\">0.99623 </td></tr>\n",
       "</tbody>\n",
       "</table>"
      ]
     },
     "metadata": {},
     "output_type": "display_data"
    },
    {
     "name": "stdout",
     "output_type": "stream",
     "text": [
      "\n",
      "xgboost prediction progress: |████████████████████████████████████████████| 100%\n"
     ]
    },
    {
     "data": {
      "text/html": [
       "<table>\n",
       "<thead>\n",
       "<tr><th style=\"text-align: right;\">  predict</th><th style=\"text-align: right;\">        p0</th><th style=\"text-align: right;\">      p1</th></tr>\n",
       "</thead>\n",
       "<tbody>\n",
       "<tr><td style=\"text-align: right;\">        1</td><td style=\"text-align: right;\">0.0275033 </td><td style=\"text-align: right;\">0.972497</td></tr>\n",
       "<tr><td style=\"text-align: right;\">        1</td><td style=\"text-align: right;\">0.00556469</td><td style=\"text-align: right;\">0.994435</td></tr>\n",
       "<tr><td style=\"text-align: right;\">        1</td><td style=\"text-align: right;\">0.357088  </td><td style=\"text-align: right;\">0.642912</td></tr>\n",
       "<tr><td style=\"text-align: right;\">        1</td><td style=\"text-align: right;\">0.0111343 </td><td style=\"text-align: right;\">0.988866</td></tr>\n",
       "<tr><td style=\"text-align: right;\">        1</td><td style=\"text-align: right;\">0.00481659</td><td style=\"text-align: right;\">0.995183</td></tr>\n",
       "<tr><td style=\"text-align: right;\">        1</td><td style=\"text-align: right;\">0.00898254</td><td style=\"text-align: right;\">0.991017</td></tr>\n",
       "<tr><td style=\"text-align: right;\">        1</td><td style=\"text-align: right;\">0.0302671 </td><td style=\"text-align: right;\">0.969733</td></tr>\n",
       "<tr><td style=\"text-align: right;\">        1</td><td style=\"text-align: right;\">0.00664771</td><td style=\"text-align: right;\">0.993352</td></tr>\n",
       "<tr><td style=\"text-align: right;\">        1</td><td style=\"text-align: right;\">0.00514716</td><td style=\"text-align: right;\">0.994853</td></tr>\n",
       "<tr><td style=\"text-align: right;\">        1</td><td style=\"text-align: right;\">0.005     </td><td style=\"text-align: right;\">0.995   </td></tr>\n",
       "</tbody>\n",
       "</table>"
      ]
     },
     "metadata": {},
     "output_type": "display_data"
    },
    {
     "name": "stdout",
     "output_type": "stream",
     "text": [
      "\n",
      "xgboost prediction progress: |████████████████████████████████████████████| 100%\n"
     ]
    },
    {
     "data": {
      "text/html": [
       "<table>\n",
       "<thead>\n",
       "<tr><th style=\"text-align: right;\">  predict</th><th style=\"text-align: right;\">      p0</th><th style=\"text-align: right;\">         p1</th></tr>\n",
       "</thead>\n",
       "<tbody>\n",
       "<tr><td style=\"text-align: right;\">        0</td><td style=\"text-align: right;\">1       </td><td style=\"text-align: right;\">3.59188e-08</td></tr>\n",
       "<tr><td style=\"text-align: right;\">        0</td><td style=\"text-align: right;\">0.996433</td><td style=\"text-align: right;\">0.00356698 </td></tr>\n",
       "<tr><td style=\"text-align: right;\">        0</td><td style=\"text-align: right;\">0.995687</td><td style=\"text-align: right;\">0.00431326 </td></tr>\n",
       "<tr><td style=\"text-align: right;\">        0</td><td style=\"text-align: right;\">0.964368</td><td style=\"text-align: right;\">0.0356325  </td></tr>\n",
       "<tr><td style=\"text-align: right;\">        1</td><td style=\"text-align: right;\">0.020449</td><td style=\"text-align: right;\">0.979551   </td></tr>\n",
       "<tr><td style=\"text-align: right;\">        0</td><td style=\"text-align: right;\">0.886533</td><td style=\"text-align: right;\">0.113467   </td></tr>\n",
       "<tr><td style=\"text-align: right;\">        0</td><td style=\"text-align: right;\">0.969489</td><td style=\"text-align: right;\">0.0305106  </td></tr>\n",
       "<tr><td style=\"text-align: right;\">        0</td><td style=\"text-align: right;\">0.957225</td><td style=\"text-align: right;\">0.0427754  </td></tr>\n",
       "<tr><td style=\"text-align: right;\">        0</td><td style=\"text-align: right;\">0.704549</td><td style=\"text-align: right;\">0.295451   </td></tr>\n",
       "<tr><td style=\"text-align: right;\">        0</td><td style=\"text-align: right;\">0.745026</td><td style=\"text-align: right;\">0.254974   </td></tr>\n",
       "</tbody>\n",
       "</table>"
      ]
     },
     "metadata": {},
     "output_type": "display_data"
    },
    {
     "name": "stdout",
     "output_type": "stream",
     "text": [
      "\n",
      "xgboost prediction progress: |████████████████████████████████████████████| 100%\n"
     ]
    },
    {
     "data": {
      "text/html": [
       "<table>\n",
       "<thead>\n",
       "<tr><th style=\"text-align: right;\">  predict</th><th style=\"text-align: right;\">        p0</th><th style=\"text-align: right;\">        p1</th></tr>\n",
       "</thead>\n",
       "<tbody>\n",
       "<tr><td style=\"text-align: right;\">        1</td><td style=\"text-align: right;\">0.145051  </td><td style=\"text-align: right;\">0.854949  </td></tr>\n",
       "<tr><td style=\"text-align: right;\">        1</td><td style=\"text-align: right;\">0.061851  </td><td style=\"text-align: right;\">0.938149  </td></tr>\n",
       "<tr><td style=\"text-align: right;\">        1</td><td style=\"text-align: right;\">0.12535   </td><td style=\"text-align: right;\">0.87465   </td></tr>\n",
       "<tr><td style=\"text-align: right;\">        0</td><td style=\"text-align: right;\">0.961116  </td><td style=\"text-align: right;\">0.0388836 </td></tr>\n",
       "<tr><td style=\"text-align: right;\">        0</td><td style=\"text-align: right;\">0.998852  </td><td style=\"text-align: right;\">0.00114795</td></tr>\n",
       "<tr><td style=\"text-align: right;\">        1</td><td style=\"text-align: right;\">0.00494468</td><td style=\"text-align: right;\">0.995055  </td></tr>\n",
       "<tr><td style=\"text-align: right;\">        1</td><td style=\"text-align: right;\">0.00407541</td><td style=\"text-align: right;\">0.995925  </td></tr>\n",
       "<tr><td style=\"text-align: right;\">        0</td><td style=\"text-align: right;\">0.995078  </td><td style=\"text-align: right;\">0.00492231</td></tr>\n",
       "<tr><td style=\"text-align: right;\">        0</td><td style=\"text-align: right;\">0.551243  </td><td style=\"text-align: right;\">0.448757  </td></tr>\n",
       "<tr><td style=\"text-align: right;\">        1</td><td style=\"text-align: right;\">0.240136  </td><td style=\"text-align: right;\">0.759864  </td></tr>\n",
       "</tbody>\n",
       "</table>"
      ]
     },
     "metadata": {},
     "output_type": "display_data"
    },
    {
     "name": "stdout",
     "output_type": "stream",
     "text": [
      "\n",
      "xgboost prediction progress: |████████████████████████████████████████████| 100%\n"
     ]
    },
    {
     "data": {
      "text/html": [
       "<table>\n",
       "<thead>\n",
       "<tr><th style=\"text-align: right;\">  predict</th><th style=\"text-align: right;\">       p0</th><th style=\"text-align: right;\">       p1</th></tr>\n",
       "</thead>\n",
       "<tbody>\n",
       "<tr><td style=\"text-align: right;\">        0</td><td style=\"text-align: right;\">0.427145 </td><td style=\"text-align: right;\">0.572855 </td></tr>\n",
       "<tr><td style=\"text-align: right;\">        0</td><td style=\"text-align: right;\">0.985203 </td><td style=\"text-align: right;\">0.0147975</td></tr>\n",
       "<tr><td style=\"text-align: right;\">        1</td><td style=\"text-align: right;\">0.378635 </td><td style=\"text-align: right;\">0.621365 </td></tr>\n",
       "<tr><td style=\"text-align: right;\">        0</td><td style=\"text-align: right;\">0.992177 </td><td style=\"text-align: right;\">0.0078234</td></tr>\n",
       "<tr><td style=\"text-align: right;\">        1</td><td style=\"text-align: right;\">0.254682 </td><td style=\"text-align: right;\">0.745318 </td></tr>\n",
       "<tr><td style=\"text-align: right;\">        0</td><td style=\"text-align: right;\">0.515358 </td><td style=\"text-align: right;\">0.484642 </td></tr>\n",
       "<tr><td style=\"text-align: right;\">        0</td><td style=\"text-align: right;\">0.992369 </td><td style=\"text-align: right;\">0.0076307</td></tr>\n",
       "<tr><td style=\"text-align: right;\">        0</td><td style=\"text-align: right;\">0.662915 </td><td style=\"text-align: right;\">0.337085 </td></tr>\n",
       "<tr><td style=\"text-align: right;\">        1</td><td style=\"text-align: right;\">0.0128455</td><td style=\"text-align: right;\">0.987154 </td></tr>\n",
       "<tr><td style=\"text-align: right;\">        0</td><td style=\"text-align: right;\">0.484713 </td><td style=\"text-align: right;\">0.515287 </td></tr>\n",
       "</tbody>\n",
       "</table>"
      ]
     },
     "metadata": {},
     "output_type": "display_data"
    },
    {
     "name": "stdout",
     "output_type": "stream",
     "text": [
      "\n"
     ]
    }
   ],
   "source": [
    "predictions = list()\n",
    "for frame,model in zip(test_frames, rf_models):\n",
    "    prediction = model.predict(frame)\n",
    "    frame['prob'] = prediction['p1']\n",
    "    predictions.append(prediction)"
   ]
  },
  {
   "cell_type": "code",
   "execution_count": 143,
   "metadata": {},
   "outputs": [
    {
     "name": "stdout",
     "output_type": "stream",
     "text": [
      "Model Details\n",
      "=============\n",
      "H2OXGBoostEstimator :  XGBoost\n",
      "Model Key:  XGBoost_model_python_1565097517577_1\n",
      "\n",
      "\n",
      "ModelMetricsBinomial: xgboost\n",
      "** Reported on train data. **\n",
      "\n",
      "MSE: 0.050209560395831604\n",
      "RMSE: 0.2240748990758037\n",
      "LogLoss: 0.16703826399651084\n",
      "Mean Per-Class Error: 0.07070759998501153\n",
      "AUC: 0.9820896299018634\n",
      "pr_auc: 0.9437009169212855\n",
      "Gini: 0.9641792598037269\n",
      "Confusion Matrix (Act/Pred) for max f1 @ threshold = 0.434690458954667: \n"
     ]
    },
    {
     "data": {
      "text/html": [
       "<div style=\"overflow:auto\"><table style=\"width:50%\"><tr><td><b></b></td>\n",
       "<td><b>0</b></td>\n",
       "<td><b>1</b></td>\n",
       "<td><b>Error</b></td>\n",
       "<td><b>Rate</b></td></tr>\n",
       "<tr><td>0</td>\n",
       "<td>188030.0</td>\n",
       "<td>11755.0</td>\n",
       "<td>0.0588</td>\n",
       "<td> (11755.0/199785.0)</td></tr>\n",
       "<tr><td>1</td>\n",
       "<td>8917.0</td>\n",
       "<td>91598.0</td>\n",
       "<td>0.0887</td>\n",
       "<td> (8917.0/100515.0)</td></tr>\n",
       "<tr><td>Total</td>\n",
       "<td>196947.0</td>\n",
       "<td>103353.0</td>\n",
       "<td>0.0688</td>\n",
       "<td> (20672.0/300300.0)</td></tr></table></div>"
      ],
      "text/plain": [
       "       0       1       Error    Rate\n",
       "-----  ------  ------  -------  ------------------\n",
       "0      188030  11755   0.0588   (11755.0/199785.0)\n",
       "1      8917    91598   0.0887   (8917.0/100515.0)\n",
       "Total  196947  103353  0.0688   (20672.0/300300.0)"
      ]
     },
     "metadata": {},
     "output_type": "display_data"
    },
    {
     "name": "stdout",
     "output_type": "stream",
     "text": [
      "Maximum Metrics: Maximum metrics at their respective thresholds\n",
      "\n"
     ]
    },
    {
     "data": {
      "text/html": [
       "<div style=\"overflow:auto\"><table style=\"width:50%\"><tr><td><b>metric</b></td>\n",
       "<td><b>threshold</b></td>\n",
       "<td><b>value</b></td>\n",
       "<td><b>idx</b></td></tr>\n",
       "<tr><td>max f1</td>\n",
       "<td>0.4346905</td>\n",
       "<td>0.8986011</td>\n",
       "<td>212.0</td></tr>\n",
       "<tr><td>max f2</td>\n",
       "<td>0.2274149</td>\n",
       "<td>0.9284647</td>\n",
       "<td>279.0</td></tr>\n",
       "<tr><td>max f0point5</td>\n",
       "<td>0.6746422</td>\n",
       "<td>0.9144964</td>\n",
       "<td>138.0</td></tr>\n",
       "<tr><td>max accuracy</td>\n",
       "<td>0.4701339</td>\n",
       "<td>0.9315684</td>\n",
       "<td>201.0</td></tr>\n",
       "<tr><td>max precision</td>\n",
       "<td>0.9981944</td>\n",
       "<td>0.9995870</td>\n",
       "<td>1.0</td></tr>\n",
       "<tr><td>max recall</td>\n",
       "<td>0.0026139</td>\n",
       "<td>1.0</td>\n",
       "<td>395.0</td></tr>\n",
       "<tr><td>max specificity</td>\n",
       "<td>0.9989593</td>\n",
       "<td>0.9999950</td>\n",
       "<td>0.0</td></tr>\n",
       "<tr><td>max absolute_mcc</td>\n",
       "<td>0.4448412</td>\n",
       "<td>0.8467062</td>\n",
       "<td>209.0</td></tr>\n",
       "<tr><td>max min_per_class_accuracy</td>\n",
       "<td>0.3833803</td>\n",
       "<td>0.9286176</td>\n",
       "<td>228.0</td></tr>\n",
       "<tr><td>max mean_per_class_accuracy</td>\n",
       "<td>0.3535282</td>\n",
       "<td>0.9292924</td>\n",
       "<td>237.0</td></tr></table></div>"
      ],
      "text/plain": [
       "metric                       threshold    value     idx\n",
       "---------------------------  -----------  --------  -----\n",
       "max f1                       0.43469      0.898601  212\n",
       "max f2                       0.227415     0.928465  279\n",
       "max f0point5                 0.674642     0.914496  138\n",
       "max accuracy                 0.470134     0.931568  201\n",
       "max precision                0.998194     0.999587  1\n",
       "max recall                   0.00261389   1         395\n",
       "max specificity              0.998959     0.999995  0\n",
       "max absolute_mcc             0.444841     0.846706  209\n",
       "max min_per_class_accuracy   0.38338      0.928618  228\n",
       "max mean_per_class_accuracy  0.353528     0.929292  237"
      ]
     },
     "metadata": {},
     "output_type": "display_data"
    },
    {
     "name": "stdout",
     "output_type": "stream",
     "text": [
      "Gains/Lift Table: Avg response rate: 33.47 %, avg score: 33.47 %\n",
      "\n"
     ]
    },
    {
     "data": {
      "text/html": [
       "<div style=\"overflow:auto\"><table style=\"width:50%\"><tr><td><b></b></td>\n",
       "<td><b>group</b></td>\n",
       "<td><b>cumulative_data_fraction</b></td>\n",
       "<td><b>lower_threshold</b></td>\n",
       "<td><b>lift</b></td>\n",
       "<td><b>cumulative_lift</b></td>\n",
       "<td><b>response_rate</b></td>\n",
       "<td><b>score</b></td>\n",
       "<td><b>cumulative_response_rate</b></td>\n",
       "<td><b>cumulative_score</b></td>\n",
       "<td><b>capture_rate</b></td>\n",
       "<td><b>cumulative_capture_rate</b></td>\n",
       "<td><b>gain</b></td>\n",
       "<td><b>cumulative_gain</b></td></tr>\n",
       "<tr><td></td>\n",
       "<td>1</td>\n",
       "<td>0.01</td>\n",
       "<td>0.9983394</td>\n",
       "<td>2.9866189</td>\n",
       "<td>2.9866189</td>\n",
       "<td>0.9996670</td>\n",
       "<td>0.9988383</td>\n",
       "<td>0.9996670</td>\n",
       "<td>0.9988383</td>\n",
       "<td>0.0298662</td>\n",
       "<td>0.0298662</td>\n",
       "<td>198.6618913</td>\n",
       "<td>198.6618913</td></tr>\n",
       "<tr><td></td>\n",
       "<td>2</td>\n",
       "<td>0.02</td>\n",
       "<td>0.9974979</td>\n",
       "<td>2.9836343</td>\n",
       "<td>2.9851266</td>\n",
       "<td>0.9986680</td>\n",
       "<td>0.9979223</td>\n",
       "<td>0.9991675</td>\n",
       "<td>0.9983803</td>\n",
       "<td>0.0298363</td>\n",
       "<td>0.0597025</td>\n",
       "<td>198.3634283</td>\n",
       "<td>198.5126598</td></tr>\n",
       "<tr><td></td>\n",
       "<td>3</td>\n",
       "<td>0.03</td>\n",
       "<td>0.9965808</td>\n",
       "<td>2.9796548</td>\n",
       "<td>2.9833027</td>\n",
       "<td>0.9973360</td>\n",
       "<td>0.9970575</td>\n",
       "<td>0.9985570</td>\n",
       "<td>0.9979394</td>\n",
       "<td>0.0297965</td>\n",
       "<td>0.0894991</td>\n",
       "<td>197.9654778</td>\n",
       "<td>198.3302658</td></tr>\n",
       "<tr><td></td>\n",
       "<td>4</td>\n",
       "<td>0.04</td>\n",
       "<td>0.9955173</td>\n",
       "<td>2.9846292</td>\n",
       "<td>2.9836343</td>\n",
       "<td>0.9990010</td>\n",
       "<td>0.9960574</td>\n",
       "<td>0.9986680</td>\n",
       "<td>0.9974689</td>\n",
       "<td>0.0298463</td>\n",
       "<td>0.1193454</td>\n",
       "<td>198.4629160</td>\n",
       "<td>198.3634283</td></tr>\n",
       "<tr><td></td>\n",
       "<td>5</td>\n",
       "<td>0.05</td>\n",
       "<td>0.9943212</td>\n",
       "<td>2.9786599</td>\n",
       "<td>2.9826394</td>\n",
       "<td>0.9970030</td>\n",
       "<td>0.9949387</td>\n",
       "<td>0.9983350</td>\n",
       "<td>0.9969628</td>\n",
       "<td>0.0297866</td>\n",
       "<td>0.1491320</td>\n",
       "<td>197.8659902</td>\n",
       "<td>198.2639407</td></tr>\n",
       "<tr><td></td>\n",
       "<td>6</td>\n",
       "<td>0.1</td>\n",
       "<td>0.9838894</td>\n",
       "<td>2.9752773</td>\n",
       "<td>2.9789584</td>\n",
       "<td>0.9958708</td>\n",
       "<td>0.9899106</td>\n",
       "<td>0.9971029</td>\n",
       "<td>0.9934367</td>\n",
       "<td>0.1487639</td>\n",
       "<td>0.2978958</td>\n",
       "<td>197.5277322</td>\n",
       "<td>197.8958364</td></tr>\n",
       "<tr><td></td>\n",
       "<td>7</td>\n",
       "<td>0.15</td>\n",
       "<td>0.9587028</td>\n",
       "<td>2.9462269</td>\n",
       "<td>2.9680479</td>\n",
       "<td>0.9861472</td>\n",
       "<td>0.9729722</td>\n",
       "<td>0.9934510</td>\n",
       "<td>0.9866152</td>\n",
       "<td>0.1473113</td>\n",
       "<td>0.4452072</td>\n",
       "<td>194.6226931</td>\n",
       "<td>196.8047887</td></tr>\n",
       "<tr><td></td>\n",
       "<td>8</td>\n",
       "<td>0.2000033</td>\n",
       "<td>0.9013111</td>\n",
       "<td>2.8692314</td>\n",
       "<td>2.9433425</td>\n",
       "<td>0.9603756</td>\n",
       "<td>0.9335914</td>\n",
       "<td>0.9851817</td>\n",
       "<td>0.9733586</td>\n",
       "<td>0.1434711</td>\n",
       "<td>0.5886783</td>\n",
       "<td>186.9231383</td>\n",
       "<td>194.3342527</td></tr>\n",
       "<tr><td></td>\n",
       "<td>9</td>\n",
       "<td>0.3</td>\n",
       "<td>0.6094357</td>\n",
       "<td>2.4821998</td>\n",
       "<td>2.7896334</td>\n",
       "<td>0.8308302</td>\n",
       "<td>0.7760714</td>\n",
       "<td>0.9337329</td>\n",
       "<td>0.9075984</td>\n",
       "<td>0.2482117</td>\n",
       "<td>0.8368900</td>\n",
       "<td>148.2199754</td>\n",
       "<td>178.9633388</td></tr>\n",
       "<tr><td></td>\n",
       "<td>10</td>\n",
       "<td>0.4</td>\n",
       "<td>0.2483699</td>\n",
       "<td>1.2696612</td>\n",
       "<td>2.4096404</td>\n",
       "<td>0.4249750</td>\n",
       "<td>0.4176651</td>\n",
       "<td>0.8065435</td>\n",
       "<td>0.7851150</td>\n",
       "<td>0.1269661</td>\n",
       "<td>0.9638561</td>\n",
       "<td>26.9661245</td>\n",
       "<td>140.9640352</td></tr>\n",
       "<tr><td></td>\n",
       "<td>11</td>\n",
       "<td>0.5</td>\n",
       "<td>0.0775540</td>\n",
       "<td>0.3085112</td>\n",
       "<td>1.9894145</td>\n",
       "<td>0.1032634</td>\n",
       "<td>0.1494539</td>\n",
       "<td>0.6658874</td>\n",
       "<td>0.6579828</td>\n",
       "<td>0.0308511</td>\n",
       "<td>0.9947073</td>\n",
       "<td>-69.1488833</td>\n",
       "<td>98.9414515</td></tr>\n",
       "<tr><td></td>\n",
       "<td>12</td>\n",
       "<td>0.6</td>\n",
       "<td>0.0207233</td>\n",
       "<td>0.0466597</td>\n",
       "<td>1.6656220</td>\n",
       "<td>0.0156177</td>\n",
       "<td>0.0434925</td>\n",
       "<td>0.5575092</td>\n",
       "<td>0.5555678</td>\n",
       "<td>0.0046660</td>\n",
       "<td>0.9993732</td>\n",
       "<td>-95.3340297</td>\n",
       "<td>66.5622046</td></tr>\n",
       "<tr><td></td>\n",
       "<td>13</td>\n",
       "<td>0.7</td>\n",
       "<td>0.0048288</td>\n",
       "<td>0.0059693</td>\n",
       "<td>1.4285288</td>\n",
       "<td>0.0019980</td>\n",
       "<td>0.0111063</td>\n",
       "<td>0.4781504</td>\n",
       "<td>0.4777876</td>\n",
       "<td>0.0005969</td>\n",
       "<td>0.9999702</td>\n",
       "<td>-99.4030742</td>\n",
       "<td>42.8528791</td></tr>\n",
       "<tr><td></td>\n",
       "<td>14</td>\n",
       "<td>0.8</td>\n",
       "<td>0.0007403</td>\n",
       "<td>0.0002985</td>\n",
       "<td>1.25</td>\n",
       "<td>0.0000999</td>\n",
       "<td>0.0023148</td>\n",
       "<td>0.4183941</td>\n",
       "<td>0.4183535</td>\n",
       "<td>0.0000298</td>\n",
       "<td>1.0</td>\n",
       "<td>-99.9701537</td>\n",
       "<td>25.0</td></tr>\n",
       "<tr><td></td>\n",
       "<td>15</td>\n",
       "<td>0.9</td>\n",
       "<td>0.0000491</td>\n",
       "<td>0.0</td>\n",
       "<td>1.1111111</td>\n",
       "<td>0.0</td>\n",
       "<td>0.0002717</td>\n",
       "<td>0.3719059</td>\n",
       "<td>0.3718999</td>\n",
       "<td>0.0</td>\n",
       "<td>1.0</td>\n",
       "<td>-100.0</td>\n",
       "<td>11.1111111</td></tr>\n",
       "<tr><td></td>\n",
       "<td>16</td>\n",
       "<td>1.0</td>\n",
       "<td>0.0000000</td>\n",
       "<td>0.0</td>\n",
       "<td>1.0</td>\n",
       "<td>0.0</td>\n",
       "<td>0.0000130</td>\n",
       "<td>0.3347153</td>\n",
       "<td>0.3347112</td>\n",
       "<td>0.0</td>\n",
       "<td>1.0</td>\n",
       "<td>-100.0</td>\n",
       "<td>0.0</td></tr></table></div>"
      ],
      "text/plain": [
       "    group    cumulative_data_fraction    lower_threshold    lift         cumulative_lift    response_rate    score        cumulative_response_rate    cumulative_score    capture_rate    cumulative_capture_rate    gain      cumulative_gain\n",
       "--  -------  --------------------------  -----------------  -----------  -----------------  ---------------  -----------  --------------------------  ------------------  --------------  -------------------------  --------  -----------------\n",
       "    1        0.01                        0.998339           2.98662      2.98662            0.999667         0.998838     0.999667                    0.998838            0.0298662       0.0298662                  198.662   198.662\n",
       "    2        0.02                        0.997498           2.98363      2.98513            0.998668         0.997922     0.999167                    0.99838             0.0298363       0.0597025                  198.363   198.513\n",
       "    3        0.03                        0.996581           2.97965      2.9833             0.997336         0.997057     0.998557                    0.997939            0.0297965       0.0894991                  197.965   198.33\n",
       "    4        0.04                        0.995517           2.98463      2.98363            0.999001         0.996057     0.998668                    0.997469            0.0298463       0.119345                   198.463   198.363\n",
       "    5        0.05                        0.994321           2.97866      2.98264            0.997003         0.994939     0.998335                    0.996963            0.0297866       0.149132                   197.866   198.264\n",
       "    6        0.1                         0.983889           2.97528      2.97896            0.995871         0.989911     0.997103                    0.993437            0.148764        0.297896                   197.528   197.896\n",
       "    7        0.15                        0.958703           2.94623      2.96805            0.986147         0.972972     0.993451                    0.986615            0.147311        0.445207                   194.623   196.805\n",
       "    8        0.200003                    0.901311           2.86923      2.94334            0.960376         0.933591     0.985182                    0.973359            0.143471        0.588678                   186.923   194.334\n",
       "    9        0.3                         0.609436           2.4822       2.78963            0.83083          0.776071     0.933733                    0.907598            0.248212        0.83689                    148.22    178.963\n",
       "    10       0.4                         0.24837            1.26966      2.40964            0.424975         0.417665     0.806543                    0.785115            0.126966        0.963856                   26.9661   140.964\n",
       "    11       0.5                         0.077554           0.308511     1.98941            0.103263         0.149454     0.665887                    0.657983            0.0308511       0.994707                   -69.1489  98.9415\n",
       "    12       0.6                         0.0207233          0.0466597    1.66562            0.0156177        0.0434925    0.557509                    0.555568            0.00466597      0.999373                   -95.334   66.5622\n",
       "    13       0.7                         0.00482883         0.00596926   1.42853            0.001998         0.0111063    0.47815                     0.477788            0.000596926     0.99997                    -99.4031  42.8529\n",
       "    14       0.8                         0.000740255        0.000298463  1.25               9.99001e-05      0.00231479   0.418394                    0.418353            2.98463e-05     1                          -99.9702  25\n",
       "    15       0.9                         4.9116e-05         0            1.11111            0                0.00027173   0.371906                    0.3719              0               1                          -100      11.1111\n",
       "    16       1                           1.79025e-10        0            1                  0                1.30068e-05  0.334715                    0.334711            0               1                          -100      0"
      ]
     },
     "metadata": {},
     "output_type": "display_data"
    },
    {
     "name": "stdout",
     "output_type": "stream",
     "text": [
      "\n",
      "Scoring History: \n"
     ]
    },
    {
     "data": {
      "text/html": [
       "<div style=\"overflow:auto\"><table style=\"width:50%\"><tr><td><b></b></td>\n",
       "<td><b>timestamp</b></td>\n",
       "<td><b>duration</b></td>\n",
       "<td><b>number_of_trees</b></td>\n",
       "<td><b>training_rmse</b></td>\n",
       "<td><b>training_logloss</b></td>\n",
       "<td><b>training_auc</b></td>\n",
       "<td><b>training_pr_auc</b></td>\n",
       "<td><b>training_lift</b></td>\n",
       "<td><b>training_classification_error</b></td></tr>\n",
       "<tr><td></td>\n",
       "<td>2019-08-06 15:18:54</td>\n",
       "<td> 0.184 sec</td>\n",
       "<td>0.0</td>\n",
       "<td>0.5</td>\n",
       "<td>0.6931472</td>\n",
       "<td>0.5</td>\n",
       "<td>0.0</td>\n",
       "<td>1.0</td>\n",
       "<td>0.6652847</td></tr>\n",
       "<tr><td></td>\n",
       "<td>2019-08-06 15:18:56</td>\n",
       "<td> 1.912 sec</td>\n",
       "<td>1.0</td>\n",
       "<td>0.4782890</td>\n",
       "<td>0.6505836</td>\n",
       "<td>0.8522248</td>\n",
       "<td>0.2198491</td>\n",
       "<td>2.3212028</td>\n",
       "<td>0.1882218</td></tr>\n",
       "<tr><td></td>\n",
       "<td>2019-08-06 15:18:56</td>\n",
       "<td> 2.607 sec</td>\n",
       "<td>2.0</td>\n",
       "<td>0.4593544</td>\n",
       "<td>0.6146527</td>\n",
       "<td>0.8762144</td>\n",
       "<td>0.3063535</td>\n",
       "<td>2.6099832</td>\n",
       "<td>0.1975225</td></tr>\n",
       "<tr><td></td>\n",
       "<td>2019-08-06 15:18:57</td>\n",
       "<td> 3.194 sec</td>\n",
       "<td>3.0</td>\n",
       "<td>0.4443536</td>\n",
       "<td>0.5867300</td>\n",
       "<td>0.8802608</td>\n",
       "<td>0.3429452</td>\n",
       "<td>2.6512428</td>\n",
       "<td>0.1898868</td></tr>\n",
       "<tr><td></td>\n",
       "<td>2019-08-06 15:18:57</td>\n",
       "<td> 3.768 sec</td>\n",
       "<td>4.0</td>\n",
       "<td>0.4298357</td>\n",
       "<td>0.5600565</td>\n",
       "<td>0.8830728</td>\n",
       "<td>0.3677767</td>\n",
       "<td>2.7134122</td>\n",
       "<td>0.1856377</td></tr>\n",
       "<tr><td>---</td>\n",
       "<td>---</td>\n",
       "<td>---</td>\n",
       "<td>---</td>\n",
       "<td>---</td>\n",
       "<td>---</td>\n",
       "<td>---</td>\n",
       "<td>---</td>\n",
       "<td>---</td>\n",
       "<td>---</td></tr>\n",
       "<tr><td></td>\n",
       "<td>2019-08-06 15:21:30</td>\n",
       "<td> 2 min 36.583 sec</td>\n",
       "<td>468.0</td>\n",
       "<td>0.2371928</td>\n",
       "<td>0.1861173</td>\n",
       "<td>0.9776265</td>\n",
       "<td>0.9502926</td>\n",
       "<td>2.9856247</td>\n",
       "<td>0.0779088</td></tr>\n",
       "<tr><td></td>\n",
       "<td>2019-08-06 15:21:51</td>\n",
       "<td> 2 min 57.868 sec</td>\n",
       "<td>533.0</td>\n",
       "<td>0.2336846</td>\n",
       "<td>0.1809748</td>\n",
       "<td>0.9789204</td>\n",
       "<td>0.9436490</td>\n",
       "<td>2.9866189</td>\n",
       "<td>0.0757043</td></tr>\n",
       "<tr><td></td>\n",
       "<td>2019-08-06 15:22:20</td>\n",
       "<td> 3 min 26.052 sec</td>\n",
       "<td>606.0</td>\n",
       "<td>0.2310376</td>\n",
       "<td>0.1770736</td>\n",
       "<td>0.9798252</td>\n",
       "<td>0.9440688</td>\n",
       "<td>2.9856247</td>\n",
       "<td>0.0733833</td></tr>\n",
       "<tr><td></td>\n",
       "<td>2019-08-06 15:22:59</td>\n",
       "<td> 4 min  5.470 sec</td>\n",
       "<td>705.0</td>\n",
       "<td>0.2277342</td>\n",
       "<td>0.1722859</td>\n",
       "<td>0.9809328</td>\n",
       "<td>0.9442354</td>\n",
       "<td>2.9866189</td>\n",
       "<td>0.0714186</td></tr>\n",
       "<tr><td></td>\n",
       "<td>2019-08-06 15:24:02</td>\n",
       "<td> 5 min  8.750 sec</td>\n",
       "<td>850.0</td>\n",
       "<td>0.2240749</td>\n",
       "<td>0.1670383</td>\n",
       "<td>0.9820896</td>\n",
       "<td>0.9437009</td>\n",
       "<td>2.9866189</td>\n",
       "<td>0.0688378</td></tr></table></div>"
      ],
      "text/plain": [
       "     timestamp            duration          number_of_trees    training_rmse        training_logloss     training_auc        training_pr_auc      training_lift       training_classification_error\n",
       "---  -------------------  ----------------  -----------------  -------------------  -------------------  ------------------  -------------------  ------------------  -------------------------------\n",
       "     2019-08-06 15:18:54  0.184 sec         0.0                0.5                  0.693147180558863    0.5                 0.0                  1.0                 0.6652847152847153\n",
       "     2019-08-06 15:18:56  1.912 sec         1.0                0.47828896820656874  0.6505835827320513   0.8522247963842631  0.21984906766016962  2.32120278142598    0.1882217782217782\n",
       "     2019-08-06 15:18:56  2.607 sec         2.0                0.45935437693419173  0.6146527383055671   0.8762143822093703  0.3063534768178119   2.6099832486488794  0.19752247752247754\n",
       "     2019-08-06 15:18:57  3.194 sec         3.0                0.44435358185125395  0.5867299662732941   0.8802607751350411  0.3429451794574769   2.6512428447967973  0.18988677988677988\n",
       "     2019-08-06 15:18:57  3.768 sec         4.0                0.42983565734989854  0.560056546620416    0.8830728152895687  0.3677766964550288   2.7134121745991875  0.18563769563769564\n",
       "---  ---                  ---               ---                ---                  ---                  ---                 ---                  ---                 ---\n",
       "     2019-08-06 15:21:30  2 min 36.583 sec  468.0              0.2371928249204496   0.1861172582569088   0.9776265457858866  0.9502926246136846   2.9856246985812676  0.07790875790875791\n",
       "     2019-08-06 15:21:51  2 min 57.868 sec  533.0              0.2336845976807171   0.18097477722654737  0.9789204052965106  0.9436489989029593   2.9866189126001093  0.07570429570429571\n",
       "     2019-08-06 15:22:20  3 min 26.052 sec  606.0              0.23103758292415108  0.17707357161270956  0.9798251669517521  0.9440687512434813   2.9856246985812676  0.07338328338328338\n",
       "     2019-08-06 15:22:59  4 min  5.470 sec  705.0              0.22773415733314906  0.17228594144201376  0.980932782102049   0.9442354464337588   2.9866189126001093  0.07141858141858141\n",
       "     2019-08-06 15:24:02  5 min  8.750 sec  850.0              0.2240748990758037   0.16703826399651084  0.9820896299018634  0.9437009169212855   2.9866189126001093  0.06883782883782884"
      ]
     },
     "metadata": {},
     "output_type": "display_data"
    },
    {
     "name": "stdout",
     "output_type": "stream",
     "text": [
      "\n",
      "See the whole table with table.as_data_frame()\n",
      "Variable Importances: \n"
     ]
    },
    {
     "data": {
      "text/html": [
       "<div style=\"overflow:auto\"><table style=\"width:50%\"><tr><td><b>variable</b></td>\n",
       "<td><b>relative_importance</b></td>\n",
       "<td><b>scaled_importance</b></td>\n",
       "<td><b>percentage</b></td></tr>\n",
       "<tr><td>NormDecayLengthXY</td>\n",
       "<td>178029.0781250</td>\n",
       "<td>1.0</td>\n",
       "<td>0.1489333</td></tr>\n",
       "<tr><td>D0Prod</td>\n",
       "<td>162267.4375000</td>\n",
       "<td>0.9114659</td>\n",
       "<td>0.1357477</td></tr>\n",
       "<tr><td>NSigmaTOFDaughters1</td>\n",
       "<td>110015.2578125</td>\n",
       "<td>0.6179623</td>\n",
       "<td>0.0920352</td></tr>\n",
       "<tr><td>DCA</td>\n",
       "<td>108758.0625000</td>\n",
       "<td>0.6109006</td>\n",
       "<td>0.0909835</td></tr>\n",
       "<tr><td>NSigmaTPCDaughter1</td>\n",
       "<td>94736.3046875</td>\n",
       "<td>0.5321395</td>\n",
       "<td>0.0792533</td></tr>\n",
       "<tr><td>---</td>\n",
       "<td>---</td>\n",
       "<td>---</td>\n",
       "<td>---</td></tr>\n",
       "<tr><td>Normd0MeasMinusExp</td>\n",
       "<td>11684.8330078</td>\n",
       "<td>0.0656344</td>\n",
       "<td>0.0097752</td></tr>\n",
       "<tr><td>D0Daughter1</td>\n",
       "<td>9593.5898438</td>\n",
       "<td>0.0538878</td>\n",
       "<td>0.0080257</td></tr>\n",
       "<tr><td>D0Daughter0</td>\n",
       "<td>9003.6748047</td>\n",
       "<td>0.0505742</td>\n",
       "<td>0.0075322</td></tr>\n",
       "<tr><td>ImpParXY</td>\n",
       "<td>7863.9448242</td>\n",
       "<td>0.0441722</td>\n",
       "<td>0.0065787</td></tr>\n",
       "<tr><td>SelectionStatusDefaultPID</td>\n",
       "<td>3.6089408</td>\n",
       "<td>0.0000203</td>\n",
       "<td>0.0000030</td></tr></table></div>"
      ],
      "text/plain": [
       "variable                   relative_importance    scaled_importance       percentage\n",
       "-------------------------  ---------------------  ----------------------  ----------------------\n",
       "NormDecayLengthXY          178029.078125          1.0                     0.14893333691773042\n",
       "D0Prod                     162267.4375            0.911465920112594       0.13574766096915813\n",
       "NSigmaTOFDaughters1        110015.2578125         0.6179622956607949      0.0920351867821033\n",
       "DCA                        108758.0625            0.6109005542546113      0.09098345807003029\n",
       "NSigmaTPCDaughter1         94736.3046875          0.5321395003853391      0.07925331149812245\n",
       "---                        ---                    ---                     ---\n",
       "Normd0MeasMinusExp         11684.8330078125       0.06563440720401978     0.00977515128151179\n",
       "D0Daughter1                9593.58984375          0.05388776903632579     0.00802568526163195\n",
       "D0Daughter0                9003.6748046875        0.050574180911984096    0.007532181525102778\n",
       "ImpParXY                   7863.94482421875       0.044172249314784515    0.006578720489612789\n",
       "SelectionStatusDefaultPID  3.608940839767456      2.0271636958281058e-05  3.0191225369815893e-06"
      ]
     },
     "metadata": {},
     "output_type": "display_data"
    },
    {
     "name": "stdout",
     "output_type": "stream",
     "text": [
      "\n",
      "See the whole table with table.as_data_frame()\n"
     ]
    },
    {
     "data": {
      "text/plain": []
     },
     "execution_count": 143,
     "metadata": {},
     "output_type": "execute_result"
    }
   ],
   "source": [
    "rf_models[0]"
   ]
  },
  {
   "cell_type": "code",
   "execution_count": 141,
   "metadata": {},
   "outputs": [],
   "source": [
    "pt_bins = pd.Series(pd.cut(filtered[0]['Pt'], bins=bins).cat.categories)"
   ]
  },
  {
   "cell_type": "code",
   "execution_count": 152,
   "metadata": {},
   "outputs": [
    {
     "data": {
      "image/png": "[encoded data removed]",
      "text/plain": [
       "<Figure size 432x288 with 1 Axes>"
      ]
     },
     "metadata": {
      "needs_background": "light"
     },
     "output_type": "display_data"
    },
    {
     "data": {
      "image/png": "[encoded data removed]",
      "text/plain": [
       "<Figure size 432x288 with 1 Axes>"
      ]
     },
     "metadata": {
      "needs_background": "light"
     },
     "output_type": "display_data"
    },
    {
     "data": {
      "image/png": "[encoded data removed]",
      "text/plain": [
       "<Figure size 432x288 with 1 Axes>"
      ]
     },
     "metadata": {
      "needs_background": "light"
     },
     "output_type": "display_data"
    },
    {
     "data": {
      "image/png": "[encoded data removed]",
      "text/plain": [
       "<Figure size 432x288 with 1 Axes>"
      ]
     },
     "metadata": {
      "needs_background": "light"
     },
     "output_type": "display_data"
    },
    {
     "data": {
      "image/png": "[encoded data removed]",
      "text/plain": [
       "<Figure size 432x288 with 1 Axes>"
      ]
     },
     "metadata": {
      "needs_background": "light"
     },
     "output_type": "display_data"
    },
    {
     "data": {
      "image/png": "[encoded data removed]",
      "text/plain": [
       "<Figure size 432x288 with 1 Axes>"
      ]
     },
     "metadata": {
      "needs_background": "light"
     },
     "output_type": "display_data"
    },
    {
     "data": {
      "image/png": "[encoded data removed]",
      "text/plain": [
       "<Figure size 432x288 with 1 Axes>"
      ]
     },
     "metadata": {
      "needs_background": "light"
     },
     "output_type": "display_data"
    },
    {
     "data": {
      "image/png": "[encoded data removed]",
      "text/plain": [
       "<Figure size 432x288 with 1 Axes>"
      ]
     },
     "metadata": {
      "needs_background": "light"
     },
     "output_type": "display_data"
    },
    {
     "data": {
      "image/png": "[encoded data removed]",
      "text/plain": [
       "<Figure size 432x288 with 1 Axes>"
      ]
     },
     "metadata": {
      "needs_background": "light"
     },
     "output_type": "display_data"
    },
    {
     "data": {
      "image/png": "[encoded data removed]",
      "text/plain": [
       "<Figure size 432x288 with 1 Axes>"
      ]
     },
     "metadata": {
      "needs_background": "light"
     },
     "output_type": "display_data"
    }
   ],
   "source": [
    "from sklearn.metrics import roc_curve, auc\n",
    "\n",
    "sns.set_context('paper')\n",
    "\n",
    "background_optimization = list()\n",
    "for test, perf, i in zip(test_frames, performance_model, range(len(test_frames))):\n",
    "\n",
    "    fig, ax = plt.subplots()\n",
    "    \n",
    "    y_test = test['IsD'].as_data_frame()\n",
    "    decisions =  test['prob'].as_data_frame()\n",
    "    \n",
    "    bkg, sig, thresholds = roc_curve(y_test, decisions,drop_intermediate=False)\n",
    "    background_optimization_local = pd.DataFrame(np.array([bkg, sig, thresholds]).T, \n",
    "                                                 columns=['bkg','signal','bdt_cut'])\n",
    "\n",
    "    background_optimization.append(background_optimization_local)\n",
    "    roc_auc = auc(bkg, sig)\n",
    "    \n",
    "    title = str(pt_bins.iloc[i])\n",
    "    \n",
    "    ax.plot(bkg, sig, label='XGBoost, ROC area = %0.3f'%roc_auc)\n",
    "\n",
    "    ax.set_xlim([1e-5, 1.05])\n",
    "    ax.set_ylim([-0.05, 1.05])\n",
    "    ax.set_xscale('log')\n",
    "    ax.set_xlabel('Background  \\n (False Positive Rate)')\n",
    "    ax.set_ylabel('Signal tagging efficiency \\n (True Positive Rate)')\n",
    "    ax.set_title(title)\n",
    "    ax.plot(bkg_eff[i],signal_eff[i], marker='o', label='Selection from $D^{0}$-tagged jets')\n",
    "    \n",
    "    ax.legend()\n",
    "    \n",
    "    fig.savefig('performace_'+title+ '.pdf',bbox_inches='tight')"
   ]
  },
  {
   "cell_type": "code",
   "execution_count": 145,
   "metadata": {},
   "outputs": [],
   "source": [
    "for model, i in zip(rf_models, range(len(rf_models))):\n",
    "    name = model.download_mojo(path=\"~/cernbox/postdoc/DHFeCorrLocal/mojo/\", get_genmodel_jar=True)\n",
    "    model_path = h2o.save_model(model=model, path=\"~/cernbox/postdoc/DHFeCorrLocal/mojo/\", force=True)\n",
    "\n",
    "    import os\n",
    "    os.rename(name, os.path.dirname(name)+'/pt_'+str(i)+'.zip')\n",
    "    os.rename(model_path, os.path.dirname(name)+'/h2o_pt_'+str(i))"
   ]
  },
  {
   "cell_type": "code",
   "execution_count": 146,
   "metadata": {},
   "outputs": [
    {
     "data": {
      "image/png": "[encoded data removed]",
      "text/plain": [
       "<Figure size 432x288 with 1 Axes>"
      ]
     },
     "metadata": {
      "needs_background": "light"
     },
     "output_type": "display_data"
    }
   ],
   "source": [
    "ax = background_optimization[0].plot(x='bdt_cut', y=['signal', 'bkg'])\n",
    "ax.set_ylabel('Efficiency')\n",
    "ax.set_xlabel('Model output')\n",
    "ax.set_xlim(1e-6,1)\n",
    "ax.set_yscale('log')"
   ]
  },
  {
   "cell_type": "code",
   "execution_count": 147,
   "metadata": {},
   "outputs": [
    {
     "data": {
      "image/png": "[encoded data removed]",
      "text/plain": [
       "<Figure size 432x288 with 1 Axes>"
      ]
     },
     "metadata": {
      "needs_background": "light"
     },
     "output_type": "display_data"
    }
   ],
   "source": [
    "background_optimization[0]['ratio'] = background_optimization[0]['signal']/background_optimization[0]['bkg']\n",
    "ax = background_optimization[0].plot(x= 'bdt_cut', y=['ratio'])\n",
    "ax.set_ylabel('Ratio Signal/Background Efficiency')\n",
    "ax.set_xlabel('Model output')\n",
    "ax.set_xlim([0,1])\n",
    "ax.set_yscale('log')"
   ]
  },
  {
   "cell_type": "code",
   "execution_count": 148,
   "metadata": {},
   "outputs": [],
   "source": [
    "best_models = background_optimization[0][ (background_optimization[0]['bkg']<bkg_eff[0]) & \n",
    "                                         (background_optimization[0]['signal']>signal_eff[0])].copy()\n",
    "\n",
    "best_models['gain_signal'] = best_models['signal']/signal_eff[0]\n",
    "best_models['bkg_signal'] = best_models['bkg']/bkg_eff[0]"
   ]
  },
  {
   "cell_type": "code",
   "execution_count": 149,
   "metadata": {},
   "outputs": [],
   "source": [
    "def get_best_model_cut(index):\n",
    "    background_optimization[index]['ratio'] = background_optimization[index]['signal']/background_optimization[index]['bkg']\n",
    "    best = background_optimization[index][(background_optimization[index]['ratio']> (signal_eff[index]/bkg_eff[index]) ) & \n",
    "                                          (background_optimization[index]['signal']>signal_eff[index])].copy()\n",
    "    best['gain_signal'] = best['signal']/signal_eff[index]\n",
    "    best['gain_bkg'] = best['bkg']/bkg_eff[index]\n",
    "    return best.replace(np.inf, 0.).sort_values('signal',ascending=False).iloc[0]['bdt_cut']"
   ]
  },
  {
   "cell_type": "code",
   "execution_count": 150,
   "metadata": {},
   "outputs": [],
   "source": [
    "values_to_cut = [get_best_model_cut(i) for i in range(len(background_optimization))]"
   ]
  },
  {
   "cell_type": "code",
   "execution_count": 151,
   "metadata": {},
   "outputs": [
    {
     "data": {
      "text/plain": [
       "[0.8295304179191589,\n",
       " 0.758073091506958,\n",
       " 0.6754142045974731,\n",
       " 0.6611857414245605,\n",
       " 0.6925405859947205,\n",
       " 0.7011485099792479,\n",
       " 0.5940353274345398,\n",
       " 0.6296995282173157,\n",
       " 0.4826835691928864,\n",
       " 0.5925767421722412]"
      ]
     },
     "execution_count": 151,
     "metadata": {},
     "output_type": "execute_result"
    }
   ],
   "source": [
    "values_to_cut"
   ]
  },
  {
   "cell_type": "code",
   "execution_count": null,
   "metadata": {},
   "outputs": [],
   "source": []
  }
 ],
 "metadata": {
  "kernelspec": {
   "display_name": "Python 3",
   "language": "python",
   "name": "python3"
  },
  "language_info": {
   "codemirror_mode": {
    "name": "ipython",
    "version": 3
   },
   "file_extension": ".py",
   "mimetype": "text/x-python",
   "name": "python",
   "nbconvert_exporter": "python",
   "pygments_lexer": "ipython3",
   "version": "3.7.4"
  }
 },
 "nbformat": 4,
 "nbformat_minor": 2
}
