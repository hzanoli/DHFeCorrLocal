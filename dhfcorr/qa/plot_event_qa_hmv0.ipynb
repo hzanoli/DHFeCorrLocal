{
 "cells": [
  {
   "cell_type": "code",
   "execution_count": null,
   "metadata": {
    "pycharm": {
     "is_executing": true
    }
   },
   "outputs": [
    {
     "name": "stdout",
     "text": [
      "Currently Loaded Modulefiles:\r\n  1) BASE/1.0                        8) Vc/1.4.1-1\r\n  2) AliEn-Runtime/v2-19-le-2        9) AliEn-ROOT-Legacy/0.1.1-1\r\n  3) Python-modules/1.0-2           10) AliRoot/v5-09-50-1\r\n  4) ROOT/v6-16-00-2                11) RooUnfold/V02-00-01-alice4-2\r\n  5) boost/v1.68.0-1                12) treelite/2a12742269-1\r\n  6) cgal/v4.6.3-1                  13) KFParticle/v1.1-1\r\n  7) fastjet/v3.2.1_1.024-alice3-1  14) AliPhysics/latest\r\n\u001b[36mUse \u001b[35malienv list\u001b[36m to list loaded modules. Use \u001b[35mexit\u001b[36m to exit this environment.\u001b[m\r\n[AliPhysics/latest] ~/cernbox/postdoc/DHFeCorrLocal/dhfcorr/qa $> "
     ],
     "output_type": "stream"
    }
   ],
   "source": [
    "!alienv enter AliPhysics/latest"
   ]
  },
  {
   "cell_type": "code",
   "execution_count": null,
   "metadata": {
    "pycharm": {
     "name": "#%%\n",
     "is_executing": true
    }
   },
   "outputs": [],
   "source": [
    "import seaborn as sns\n",
    "import ROOT\n",
    "\n",
    "import matplotlib.pyplot as plt\n",
    "import pandas as pd\n",
    "import numpy as np\n",
    "sns.set()\n",
    "%matplotlib inline\n",
    "%config InlineBackend.figure_format = 'retina'\n",
    "print('a')"
   ]
  },
  {
   "cell_type": "code",
   "execution_count": null,
   "metadata": {
    "pycharm": {
     "is_executing": true
    }
   },
   "outputs": [],
   "source": [
    "path_to_root_file = '/data2/data/d_hfe/root/D0_HMV0/'\n",
    "configuration_name = 'D0'\n",
    "folder_name = 'DHFeCorrelation_' + configuration_name"
   ]
  },
  {
   "cell_type": "code",
   "execution_count": null,
   "metadata": {
    "pycharm": {
     "is_executing": true
    }
   },
   "outputs": [],
   "source": [
    "import glob"
   ]
  },
  {
   "cell_type": "code",
   "execution_count": null,
   "metadata": {
    "pycharm": {
     "is_executing": true
    }
   },
   "outputs": [],
   "source": [
    "files = glob.glob(path_to_root_file+\"*.root\")\n",
    "print(files[0])"
   ]
  },
  {
   "cell_type": "code",
   "execution_count": null,
   "metadata": {
    "pycharm": {
     "is_executing": true
    }
   },
   "outputs": [],
   "source": [
    "import io"
   ]
  },
  {
   "cell_type": "code",
   "execution_count": null,
   "metadata": {
    "pycharm": {
     "is_executing": true
    }
   },
   "outputs": [],
   "source": [
    "print(conversor_16)"
   ]
  },
  {
   "cell_type": "code",
   "execution_count": null,
   "metadata": {
    "pycharm": {
     "is_executing": true
    }
   },
   "outputs": [],
   "source": [
    "conversor_16 = io.StringIO(\"Child Number\tPeriod\\n\\\n",
    "child 1\tFILTER_p-p_208_LHC16d\\n \\\n",
    "child 2\tFILTER_p-p_208_LHC16e\\n \\\n",
    "child 3\tFILTER_p-p_208_LHC16g\\n \\\n",
    "child 4\tFILTER_p-p_208_LHC16h\\n \\\n",
    "child 5\tFILTER_p-p_208_LHC16j\\n \\\n",
    "child 6\tFILTER_p-p_208_LHC16k\\n \\\n",
    "child 7\tFILTER_p-p_208_LHC16l\\n \\\n",
    "child 8\tFILTER_p-p_208_LHC16o\\n \\\n",
    "child 9\tFILTER_p-p_208_LHC16p\\n \")\n",
    "\n",
    "conversor_17 = io.StringIO(\"Child Number\tPeriod\\n\\\n",
    "child 1\tFILTER_p-p_208_LHC17c\\n\\\n",
    "child 2\tFILTER_p-p_208_LHC17e\\n\\\n",
    "child 3\tFILTER_p-p_208_LHC17f\\n\\\n",
    "child 4\tFILTER_p-p_212_LHC17g\\n\\\n",
    "child 5\tFILTER_p-p_208_LHC17h\\n\\\n",
    "child 6\tFILTER_p-p_208_LHC17i\\n\\\n",
    "child 7\tFILTER_p-p_208_LHC17j\\n\\\n",
    "child 8\tFILTER_p-p_208_LHC17k\\n\\\n",
    "child 9\tFILTER_p-p_208_LHC17l\\n\\\n",
    "child 10\tFILTER_p-p_208_LHC17m\\n\\\n",
    "child 11\tFILTER_p-p_208_LHC17o\\n\\\n",
    "child 12\tFILTER_p-p_208_LHC17r\\n\")\n",
    "\n",
    "conversor_18 = io.StringIO(\"Child Number\tPeriod\\n\\\n",
    "child 1\tFILTER_p-p_208_LHC18b\\n\\\n",
    "child 2\tFILTER_p-p_208_LHC18d\\n\\\n",
    "child 3\tFILTER_p-p_208_LHC18e\\n\\\n",
    "child 4\tFILTER_p-p_208_LHC18f\\n\\\n",
    "child 5\tFILTER_p-p_208_LHC18g\\n\\\n",
    "child 6\tFILTER_p-p_208_LHC18h\\n\\\n",
    "child 7\tFILTER_p-p_208_LHC18i\\n\\\n",
    "child 8\tFILTER_p-p_208_LHC18k\\n\\\n",
    "child 9\tFILTER_p-p_208_LHC18l\\n\\\n",
    "child 10\tFILTER_p-p_208_LHC18m\\n\\\n",
    "child 11\tFILTER_p-p_208_LHC18n\\n\\\n",
    "child 12\tFILTER_p-p_208_LHC18o\\n\\\n",
    "child 13\tFILTER_p-p_208_LHC18p\\n\")\n",
    "        \n",
    "table_convertsion = pd.concat([pd.read_csv(conversor_16, delimiter='\t'), \n",
    "                              pd.read_csv(conversor_17, delimiter='\t'),\n",
    "                            pd.read_csv(conversor_18, delimiter='\t')],ignore_index=True)\n",
    "table_convertsion['Period'] = table_convertsion['Period'].apply(lambda x : x.split('LHC')[1])\n",
    "table_convertsion['Child Number'] = table_convertsion['Child Number'].apply(lambda x: int(x.split('child ')[1]))\n",
    "table_convertsion['Year'] = table_convertsion['Period'].apply(lambda x : x[:2])\n",
    "table_convertsion.set_index(['Year','Child Number'],inplace=True)"
   ]
  },
  {
   "cell_type": "code",
   "execution_count": null,
   "metadata": {
    "pycharm": {
     "is_executing": true
    }
   },
   "outputs": [],
   "source": [
    "n_events_with_trigger = list()\n",
    "n_events_with_DHFe = list()\n",
    "\n",
    "for f in files:\n",
    "    file_root = ROOT.TFile.Open(f)\n",
    "    file_root.cd('DHFeCorrelation_D0')\n",
    "    list_event_qa = ROOT.gDirectory.Get('EventsQA')\n",
    "    \n",
    "    events_with_trigger = list_event_qa.FindObject('VertexZ_before')\n",
    "    events_with_trigger.GetXaxis().SetRangeUser(-10.,10.)\n",
    "    n_events = events_with_trigger.Integral()\n",
    "    n_events_with_trigger.append(n_events)\n",
    "    \n",
    "    events_with_DHFe = list_event_qa.FindObject('VertexZ_after')\n",
    "    events_with_DHFe.GetXaxis().SetRangeUser(-10.,10.)\n",
    "    n_events_DHFe = events_with_DHFe.Integral()\n",
    "    n_events_with_DHFe.append(n_events_DHFe)"
   ]
  },
  {
   "cell_type": "code",
   "execution_count": null,
   "metadata": {
    "pycharm": {
     "is_executing": true
    }
   },
   "outputs": [],
   "source": [
    "year = [x.split('/')[-1].split('_')[0] for x in files]\n",
    "child_number = [int(('child' + x.split('/')[-1].split('child')[1]).split('.')[0].split('_')[1]) for x in files]\n",
    "event_counts = pd.DataFrame([year, child_number, n_events_with_trigger, n_events_with_DHFe]).T\n",
    "event_counts.columns = ['Year', 'Child Number', 'Number of Events', 'Events with D and e']"
   ]
  },
  {
   "cell_type": "code",
   "execution_count": null,
   "metadata": {
    "pycharm": {
     "is_executing": true
    }
   },
   "outputs": [],
   "source": []
  },
  {
   "cell_type": "code",
   "execution_count": null,
   "metadata": {
    "pycharm": {
     "is_executing": true
    }
   },
   "outputs": [],
   "source": [
    "event_counts = event_counts.groupby(['Year', 'Child Number']).sum().join(table_convertsion).reset_index()"
   ]
  },
  {
   "cell_type": "code",
   "execution_count": null,
   "metadata": {
    "pycharm": {
     "is_executing": true
    }
   },
   "outputs": [],
   "source": [
    "sns.set_context('notebook')\n",
    "ax = event_counts.plot.bar(x='Period', y='Number of Events',\n",
    "                           color='red', label='Number of Events with HMV0 Trigger')\n",
    "ax.set_ylabel('Frequency')\n",
    "\n",
    "ax.get_figure().savefig('All_event_with_trigger.pdf', bbox_inches='tight')"
   ]
  },
  {
   "cell_type": "code",
   "execution_count": null,
   "metadata": {
    "pycharm": {
     "is_executing": true
    }
   },
   "outputs": [],
   "source": [
    "ax = event_counts.plot.bar(x='Period', y='Events with D and e', \n",
    "                           color='red', label='Number of Events with D and e')\n",
    "ax.ticklabel_format(axis='y', style='sci', scilimits=(-2,2))\n",
    "ax.set_ylabel('Frequency')\n",
    "ax.get_figure().savefig('All_event_with_De.pdf', bbox_inches='tight')"
   ]
  },
  {
   "cell_type": "code",
   "execution_count": null,
   "metadata": {
    "pycharm": {
     "is_executing": true
    }
   },
   "outputs": [],
   "source": [
    "event_counts['Events with D and e'] = event_counts['Events with D and e'].astype(np.float32)\n",
    "event_counts['Number of Events'] = event_counts['Number of Events'].astype(np.float32)\n",
    "event_counts['ratio'] = event_counts['Events with D and e']/event_counts['Number of Events']\n",
    "\n",
    "event_counts['ratio_error'] = event_counts['ratio']* np.sqrt( \n",
    "    (np.sqrt(event_counts['Events with D and e'])/event_counts['Events with D and e'])** 2  +\n",
    "    (np.sqrt(event_counts['Number of Events'])/event_counts['Number of Events'])** 2)"
   ]
  },
  {
   "cell_type": "code",
   "execution_count": null,
   "metadata": {
    "pycharm": {
     "is_executing": true
    }
   },
   "outputs": [],
   "source": [
    "sns.set_context('notebook')\n",
    "ax = event_counts.plot.bar(x='Period', y='ratio', color='red', label = 'Selected/Total')\n",
    "ax.set_ylim(1.1*np.array(ax.get_ylim()))\n",
    "ax.set_ylabel('Ratio')\n",
    "ax.get_figure().savefig('ratio.pdf', bbox_inches='tight')"
   ]
  },
  {
   "cell_type": "code",
   "execution_count": null,
   "metadata": {
    "pycharm": {
     "is_executing": true
    }
   },
   "outputs": [],
   "source": [
    "print('Events with D meson and electrons')\n",
    "print('{0:.1f} M events'.format(event_counts['Events with D and e'].sum()/(10**6)))"
   ]
  },
  {
   "cell_type": "code",
   "execution_count": null,
   "metadata": {
    "pycharm": {
     "is_executing": true
    }
   },
   "outputs": [],
   "source": [
    "print('All Events')\n",
    "print('{0:.1f} M events'.format(event_counts['Number of Events'].sum()/(10**6)))"
   ]
  },
  {
   "cell_type": "code",
   "execution_count": null,
   "metadata": {
    "pycharm": {
     "is_executing": true
    }
   },
   "outputs": [],
   "source": [
    "import pandas as pd"
   ]
  },
  {
   "cell_type": "code",
   "execution_count": null,
   "metadata": {
    "pycharm": {
     "is_executing": true
    }
   },
   "outputs": [],
   "source": [
    "df_d = pd.read_parquet('/Users/hzanoli/cernbox/postdoc/DHFeCorrLocal/selected_ml.parquet')"
   ]
  },
  {
   "cell_type": "code",
   "execution_count": null,
   "metadata": {
    "pycharm": {
     "is_executing": true
    }
   },
   "outputs": [],
   "source": [
    "df_d = df_d[df_d['Pt'] < 24.]\n",
    "name = 'cut_bdt'\n",
    "cuts_pt = pd.read_pickle('/Users/hzanoli/cernbox/postdoc/DHFeCorrLocal/'+name + '.pkl')"
   ]
  },
  {
   "cell_type": "code",
   "execution_count": null,
   "metadata": {
    "pycharm": {
     "is_executing": true
    }
   },
   "outputs": [],
   "source": [
    "df_d['Cut'] = cuts_pt.loc[df_d['Pt']].reset_index(drop=True)"
   ]
  },
  {
   "cell_type": "code",
   "execution_count": null,
   "metadata": {
    "pycharm": {
     "is_executing": true
    }
   },
   "outputs": [],
   "source": [
    "df_d = df_d[df_d['prediction'] >= df_d['Cut']]"
   ]
  },
  {
   "cell_type": "code",
   "execution_count": null,
   "metadata": {
    "pycharm": {
     "is_executing": true
    }
   },
   "outputs": [],
   "source": [
    "len(df_d)"
   ]
  },
  {
   "cell_type": "code",
   "execution_count": null,
   "metadata": {
    "pycharm": {
     "is_executing": true
    }
   },
   "outputs": [],
   "source": [
    "df_d.columns"
   ]
  },
  {
   "cell_type": "code",
   "execution_count": null,
   "metadata": {
    "pycharm": {
     "is_executing": true
    }
   },
   "outputs": [],
   "source": [
    "n_d = df_d.groupby(by=['GridPID', 'EventNumber', 'ID']).count()['IsParticleCandidate']"
   ]
  },
  {
   "cell_type": "code",
   "execution_count": null,
   "metadata": {
    "pycharm": {
     "is_executing": true
    }
   },
   "outputs": [],
   "source": [
    "importan_values = df_d[['EventNumber', 'GridPID','Pt', 'Phi', 'ID', 'IsParticleCandidate']]\n",
    "importan_values.info(memory_usage='deep')"
   ]
  },
  {
   "cell_type": "code",
   "execution_count": null,
   "metadata": {
    "pycharm": {
     "is_executing": true
    }
   },
   "outputs": [],
   "source": [
    "d_corr = importan_values.merge(importan_values, on=['EventNumber', 'GridPID'])"
   ]
  },
  {
   "cell_type": "code",
   "execution_count": null,
   "metadata": {
    "pycharm": {
     "is_executing": true
    }
   },
   "outputs": [],
   "source": [
    "d_corr = d_corr[d_corr['ID_x'] != d_corr['ID_y']].copy()"
   ]
  },
  {
   "cell_type": "code",
   "execution_count": null,
   "metadata": {
    "pycharm": {
     "is_executing": true
    }
   },
   "outputs": [],
   "source": [
    "d_corr['IsParticleCandidate_x'] = d_corr['IsParticleCandidate_x'].astype('bool')\n",
    "d_corr['IsParticleCandidate_y'] = d_corr['IsParticleCandidate_y'].astype('bool')"
   ]
  },
  {
   "cell_type": "code",
   "execution_count": null,
   "metadata": {
    "pycharm": {
     "is_executing": true
    }
   },
   "outputs": [],
   "source": [
    "d_corr = d_corr[((d_corr['IsParticleCandidate_x'] & ~d_corr['IsParticleCandidate_y']) | \n",
    " (d_corr['IsParticleCandidate_y'] & ~d_corr['IsParticleCandidate_x'])) ].copy()"
   ]
  },
  {
   "cell_type": "code",
   "execution_count": null,
   "metadata": {
    "pycharm": {
     "is_executing": true
    }
   },
   "outputs": [],
   "source": [
    "d_corr['DeltaPhi']= d_corr['Phi_x'] - d_corr['Phi_y']"
   ]
  },
  {
   "cell_type": "code",
   "execution_count": null,
   "metadata": {
    "pycharm": {
     "is_executing": true
    }
   },
   "outputs": [],
   "source": [
    "import matplotlib.pyplot as plt\n",
    "import pandas as pd\n",
    "import numpy as np\n",
    "import seaborn as sns\n",
    "sns.set()\n",
    "%matplotlib inline\n",
    "%config InlineBackend.figure_format = 'retina'\n",
    "d_corr['DeltaPhi'].plot.hist(bins=20)"
   ]
  },
  {
   "cell_type": "code",
   "execution_count": null,
   "metadata": {
    "pycharm": {
     "is_executing": true
    }
   },
   "outputs": [],
   "source": []
  }
 ],
 "metadata": {
  "kernelspec": {
   "display_name": "Python 3",
   "language": "python",
   "name": "python3"
  },
  "language_info": {
   "codemirror_mode": {
    "name": "ipython",
    "version": 3
   },
   "file_extension": ".py",
   "mimetype": "text/x-python",
   "name": "python",
   "nbconvert_exporter": "python",
   "pygments_lexer": "ipython3",
   "version": "3.7.4"
  },
  "pycharm": {
   "stem_cell": {
    "cell_type": "raw",
    "source": [],
    "metadata": {
     "collapsed": false
    }
   }
  }
 },
 "nbformat": 4,
 "nbformat_minor": 1
}